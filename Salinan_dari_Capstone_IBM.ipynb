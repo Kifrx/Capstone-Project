{
  "nbformat": 4,
  "nbformat_minor": 0,
  "metadata": {
    "colab": {
      "provenance": []
    },
    "kernelspec": {
      "name": "python3",
      "display_name": "Python 3"
    },
    "language_info": {
      "name": "python"
    }
  },
  "cells": [
    {
      "cell_type": "code",
      "execution_count": null,
      "metadata": {
        "id": "WcPuozNRjZvS",
        "colab": {
          "base_uri": "https://localhost:8080/"
        },
        "collapsed": true,
        "outputId": "95bd166b-fa63-4a0a-cc05-4f93c3437332"
      },
      "outputs": [
        {
          "output_type": "stream",
          "name": "stdout",
          "text": [
            "Collecting langchain_community\n",
            "  Downloading langchain_community-0.3.27-py3-none-any.whl.metadata (2.9 kB)\n",
            "Requirement already satisfied: langchain-core<1.0.0,>=0.3.66 in /usr/local/lib/python3.11/dist-packages (from langchain_community) (0.3.72)\n",
            "Requirement already satisfied: langchain<1.0.0,>=0.3.26 in /usr/local/lib/python3.11/dist-packages (from langchain_community) (0.3.27)\n",
            "Requirement already satisfied: SQLAlchemy<3,>=1.4 in /usr/local/lib/python3.11/dist-packages (from langchain_community) (2.0.41)\n",
            "Requirement already satisfied: requests<3,>=2 in /usr/local/lib/python3.11/dist-packages (from langchain_community) (2.32.3)\n",
            "Requirement already satisfied: PyYAML>=5.3 in /usr/local/lib/python3.11/dist-packages (from langchain_community) (6.0.2)\n",
            "Requirement already satisfied: aiohttp<4.0.0,>=3.8.3 in /usr/local/lib/python3.11/dist-packages (from langchain_community) (3.12.14)\n",
            "Requirement already satisfied: tenacity!=8.4.0,<10,>=8.1.0 in /usr/local/lib/python3.11/dist-packages (from langchain_community) (8.5.0)\n",
            "Collecting dataclasses-json<0.7,>=0.5.7 (from langchain_community)\n",
            "  Downloading dataclasses_json-0.6.7-py3-none-any.whl.metadata (25 kB)\n",
            "Collecting pydantic-settings<3.0.0,>=2.4.0 (from langchain_community)\n",
            "  Downloading pydantic_settings-2.10.1-py3-none-any.whl.metadata (3.4 kB)\n",
            "Requirement already satisfied: langsmith>=0.1.125 in /usr/local/lib/python3.11/dist-packages (from langchain_community) (0.4.8)\n",
            "Collecting httpx-sse<1.0.0,>=0.4.0 (from langchain_community)\n",
            "  Downloading httpx_sse-0.4.1-py3-none-any.whl.metadata (9.4 kB)\n",
            "Requirement already satisfied: numpy>=1.26.2 in /usr/local/lib/python3.11/dist-packages (from langchain_community) (2.0.2)\n",
            "Requirement already satisfied: aiohappyeyeballs>=2.5.0 in /usr/local/lib/python3.11/dist-packages (from aiohttp<4.0.0,>=3.8.3->langchain_community) (2.6.1)\n",
            "Requirement already satisfied: aiosignal>=1.4.0 in /usr/local/lib/python3.11/dist-packages (from aiohttp<4.0.0,>=3.8.3->langchain_community) (1.4.0)\n",
            "Requirement already satisfied: attrs>=17.3.0 in /usr/local/lib/python3.11/dist-packages (from aiohttp<4.0.0,>=3.8.3->langchain_community) (25.3.0)\n",
            "Requirement already satisfied: frozenlist>=1.1.1 in /usr/local/lib/python3.11/dist-packages (from aiohttp<4.0.0,>=3.8.3->langchain_community) (1.7.0)\n",
            "Requirement already satisfied: multidict<7.0,>=4.5 in /usr/local/lib/python3.11/dist-packages (from aiohttp<4.0.0,>=3.8.3->langchain_community) (6.6.3)\n",
            "Requirement already satisfied: propcache>=0.2.0 in /usr/local/lib/python3.11/dist-packages (from aiohttp<4.0.0,>=3.8.3->langchain_community) (0.3.2)\n",
            "Requirement already satisfied: yarl<2.0,>=1.17.0 in /usr/local/lib/python3.11/dist-packages (from aiohttp<4.0.0,>=3.8.3->langchain_community) (1.20.1)\n",
            "Collecting marshmallow<4.0.0,>=3.18.0 (from dataclasses-json<0.7,>=0.5.7->langchain_community)\n",
            "  Downloading marshmallow-3.26.1-py3-none-any.whl.metadata (7.3 kB)\n",
            "Collecting typing-inspect<1,>=0.4.0 (from dataclasses-json<0.7,>=0.5.7->langchain_community)\n",
            "  Downloading typing_inspect-0.9.0-py3-none-any.whl.metadata (1.5 kB)\n",
            "Requirement already satisfied: langchain-text-splitters<1.0.0,>=0.3.9 in /usr/local/lib/python3.11/dist-packages (from langchain<1.0.0,>=0.3.26->langchain_community) (0.3.9)\n",
            "Requirement already satisfied: pydantic<3.0.0,>=2.7.4 in /usr/local/lib/python3.11/dist-packages (from langchain<1.0.0,>=0.3.26->langchain_community) (2.11.7)\n",
            "Requirement already satisfied: jsonpatch<2.0,>=1.33 in /usr/local/lib/python3.11/dist-packages (from langchain-core<1.0.0,>=0.3.66->langchain_community) (1.33)\n",
            "Requirement already satisfied: typing-extensions>=4.7 in /usr/local/lib/python3.11/dist-packages (from langchain-core<1.0.0,>=0.3.66->langchain_community) (4.14.1)\n",
            "Requirement already satisfied: packaging>=23.2 in /usr/local/lib/python3.11/dist-packages (from langchain-core<1.0.0,>=0.3.66->langchain_community) (25.0)\n",
            "Requirement already satisfied: httpx<1,>=0.23.0 in /usr/local/lib/python3.11/dist-packages (from langsmith>=0.1.125->langchain_community) (0.28.1)\n",
            "Requirement already satisfied: orjson<4.0.0,>=3.9.14 in /usr/local/lib/python3.11/dist-packages (from langsmith>=0.1.125->langchain_community) (3.11.1)\n",
            "Requirement already satisfied: requests-toolbelt<2.0.0,>=1.0.0 in /usr/local/lib/python3.11/dist-packages (from langsmith>=0.1.125->langchain_community) (1.0.0)\n",
            "Requirement already satisfied: zstandard<0.24.0,>=0.23.0 in /usr/local/lib/python3.11/dist-packages (from langsmith>=0.1.125->langchain_community) (0.23.0)\n",
            "Collecting python-dotenv>=0.21.0 (from pydantic-settings<3.0.0,>=2.4.0->langchain_community)\n",
            "  Downloading python_dotenv-1.1.1-py3-none-any.whl.metadata (24 kB)\n",
            "Requirement already satisfied: typing-inspection>=0.4.0 in /usr/local/lib/python3.11/dist-packages (from pydantic-settings<3.0.0,>=2.4.0->langchain_community) (0.4.1)\n",
            "Requirement already satisfied: charset-normalizer<4,>=2 in /usr/local/lib/python3.11/dist-packages (from requests<3,>=2->langchain_community) (3.4.2)\n",
            "Requirement already satisfied: idna<4,>=2.5 in /usr/local/lib/python3.11/dist-packages (from requests<3,>=2->langchain_community) (3.10)\n",
            "Requirement already satisfied: urllib3<3,>=1.21.1 in /usr/local/lib/python3.11/dist-packages (from requests<3,>=2->langchain_community) (2.5.0)\n",
            "Requirement already satisfied: certifi>=2017.4.17 in /usr/local/lib/python3.11/dist-packages (from requests<3,>=2->langchain_community) (2025.7.14)\n",
            "Requirement already satisfied: greenlet>=1 in /usr/local/lib/python3.11/dist-packages (from SQLAlchemy<3,>=1.4->langchain_community) (3.2.3)\n",
            "Requirement already satisfied: anyio in /usr/local/lib/python3.11/dist-packages (from httpx<1,>=0.23.0->langsmith>=0.1.125->langchain_community) (4.9.0)\n",
            "Requirement already satisfied: httpcore==1.* in /usr/local/lib/python3.11/dist-packages (from httpx<1,>=0.23.0->langsmith>=0.1.125->langchain_community) (1.0.9)\n",
            "Requirement already satisfied: h11>=0.16 in /usr/local/lib/python3.11/dist-packages (from httpcore==1.*->httpx<1,>=0.23.0->langsmith>=0.1.125->langchain_community) (0.16.0)\n",
            "Requirement already satisfied: jsonpointer>=1.9 in /usr/local/lib/python3.11/dist-packages (from jsonpatch<2.0,>=1.33->langchain-core<1.0.0,>=0.3.66->langchain_community) (3.0.0)\n",
            "Requirement already satisfied: annotated-types>=0.6.0 in /usr/local/lib/python3.11/dist-packages (from pydantic<3.0.0,>=2.7.4->langchain<1.0.0,>=0.3.26->langchain_community) (0.7.0)\n",
            "Requirement already satisfied: pydantic-core==2.33.2 in /usr/local/lib/python3.11/dist-packages (from pydantic<3.0.0,>=2.7.4->langchain<1.0.0,>=0.3.26->langchain_community) (2.33.2)\n",
            "Collecting mypy-extensions>=0.3.0 (from typing-inspect<1,>=0.4.0->dataclasses-json<0.7,>=0.5.7->langchain_community)\n",
            "  Downloading mypy_extensions-1.1.0-py3-none-any.whl.metadata (1.1 kB)\n",
            "Requirement already satisfied: sniffio>=1.1 in /usr/local/lib/python3.11/dist-packages (from anyio->httpx<1,>=0.23.0->langsmith>=0.1.125->langchain_community) (1.3.1)\n",
            "Downloading langchain_community-0.3.27-py3-none-any.whl (2.5 MB)\n",
            "\u001b[2K   \u001b[90m━━━━━━━━━━━━━━━━━━━━━━━━━━━━━━━━━━━━━━━━\u001b[0m \u001b[32m2.5/2.5 MB\u001b[0m \u001b[31m7.9 MB/s\u001b[0m eta \u001b[36m0:00:00\u001b[0m\n",
            "\u001b[?25hDownloading dataclasses_json-0.6.7-py3-none-any.whl (28 kB)\n",
            "Downloading httpx_sse-0.4.1-py3-none-any.whl (8.1 kB)\n",
            "Downloading pydantic_settings-2.10.1-py3-none-any.whl (45 kB)\n",
            "\u001b[2K   \u001b[90m━━━━━━━━━━━━━━━━━━━━━━━━━━━━━━━━━━━━━━━━\u001b[0m \u001b[32m45.2/45.2 kB\u001b[0m \u001b[31m2.8 MB/s\u001b[0m eta \u001b[36m0:00:00\u001b[0m\n",
            "\u001b[?25hDownloading marshmallow-3.26.1-py3-none-any.whl (50 kB)\n",
            "\u001b[2K   \u001b[90m━━━━━━━━━━━━━━━━━━━━━━━━━━━━━━━━━━━━━━━━\u001b[0m \u001b[32m50.9/50.9 kB\u001b[0m \u001b[31m3.7 MB/s\u001b[0m eta \u001b[36m0:00:00\u001b[0m\n",
            "\u001b[?25hDownloading python_dotenv-1.1.1-py3-none-any.whl (20 kB)\n",
            "Downloading typing_inspect-0.9.0-py3-none-any.whl (8.8 kB)\n",
            "Downloading mypy_extensions-1.1.0-py3-none-any.whl (5.0 kB)\n",
            "Installing collected packages: python-dotenv, mypy-extensions, marshmallow, httpx-sse, typing-inspect, pydantic-settings, dataclasses-json, langchain_community\n",
            "Successfully installed dataclasses-json-0.6.7 httpx-sse-0.4.1 langchain_community-0.3.27 marshmallow-3.26.1 mypy-extensions-1.1.0 pydantic-settings-2.10.1 python-dotenv-1.1.1 typing-inspect-0.9.0\n",
            "Collecting replicate\n",
            "  Downloading replicate-1.0.7-py3-none-any.whl.metadata (29 kB)\n",
            "Requirement already satisfied: httpx<1,>=0.21.0 in /usr/local/lib/python3.11/dist-packages (from replicate) (0.28.1)\n",
            "Requirement already satisfied: packaging in /usr/local/lib/python3.11/dist-packages (from replicate) (25.0)\n",
            "Requirement already satisfied: pydantic>1.10.7 in /usr/local/lib/python3.11/dist-packages (from replicate) (2.11.7)\n",
            "Requirement already satisfied: typing_extensions>=4.5.0 in /usr/local/lib/python3.11/dist-packages (from replicate) (4.14.1)\n",
            "Requirement already satisfied: anyio in /usr/local/lib/python3.11/dist-packages (from httpx<1,>=0.21.0->replicate) (4.9.0)\n",
            "Requirement already satisfied: certifi in /usr/local/lib/python3.11/dist-packages (from httpx<1,>=0.21.0->replicate) (2025.7.14)\n",
            "Requirement already satisfied: httpcore==1.* in /usr/local/lib/python3.11/dist-packages (from httpx<1,>=0.21.0->replicate) (1.0.9)\n",
            "Requirement already satisfied: idna in /usr/local/lib/python3.11/dist-packages (from httpx<1,>=0.21.0->replicate) (3.10)\n",
            "Requirement already satisfied: h11>=0.16 in /usr/local/lib/python3.11/dist-packages (from httpcore==1.*->httpx<1,>=0.21.0->replicate) (0.16.0)\n",
            "Requirement already satisfied: annotated-types>=0.6.0 in /usr/local/lib/python3.11/dist-packages (from pydantic>1.10.7->replicate) (0.7.0)\n",
            "Requirement already satisfied: pydantic-core==2.33.2 in /usr/local/lib/python3.11/dist-packages (from pydantic>1.10.7->replicate) (2.33.2)\n",
            "Requirement already satisfied: typing-inspection>=0.4.0 in /usr/local/lib/python3.11/dist-packages (from pydantic>1.10.7->replicate) (0.4.1)\n",
            "Requirement already satisfied: sniffio>=1.1 in /usr/local/lib/python3.11/dist-packages (from anyio->httpx<1,>=0.21.0->replicate) (1.3.1)\n",
            "Downloading replicate-1.0.7-py3-none-any.whl (48 kB)\n",
            "\u001b[2K   \u001b[90m━━━━━━━━━━━━━━━━━━━━━━━━━━━━━━━━━━━━━━━━\u001b[0m \u001b[32m48.6/48.6 kB\u001b[0m \u001b[31m414.5 kB/s\u001b[0m eta \u001b[36m0:00:00\u001b[0m\n",
            "\u001b[?25hInstalling collected packages: replicate\n",
            "Successfully installed replicate-1.0.7\n"
          ]
        }
      ],
      "source": [
        "!pip install langchain_community\n",
        "!pip install replicate"
      ]
    },
    {
      "cell_type": "code",
      "source": [
        "import os\n",
        "from google.colab import userdata\n",
        "\n",
        "api_token = userdata.get(\"api_token\")\n",
        "os.environ[\"REPLICATE_API_TOKEN\"] = api_token"
      ],
      "metadata": {
        "id": "SB3wJC9rdDb8"
      },
      "execution_count": null,
      "outputs": []
    },
    {
      "cell_type": "code",
      "source": [
        "from langchain_community.llms import Replicate\n",
        "\n",
        "model_params = {\n",
        "    \"temperature\": 0.1,\n",
        "    \"max_new_tokens\": 512,\n",
        "    \"repetition_penalty\": 1.1\n",
        "}\n",
        "\n",
        "\n",
        "\n",
        "llm = Replicate(\n",
        "    model = \"ibm-granite/granite-3.3-8b-instruct\",\n",
        "    model_kwargs=model_params\n",
        ")"
      ],
      "metadata": {
        "id": "O2XFcIqNbHNO"
      },
      "execution_count": null,
      "outputs": []
    },
    {
      "cell_type": "code",
      "source": [
        "from google.colab import drive\n",
        "drive.mount('/content/drive')"
      ],
      "metadata": {
        "id": "jHZ70Q6Bje80",
        "colab": {
          "base_uri": "https://localhost:8080/"
        },
        "outputId": "c541d450-4352-4ab8-cdd3-1b3c00d301e2",
        "collapsed": true
      },
      "execution_count": null,
      "outputs": [
        {
          "output_type": "stream",
          "name": "stdout",
          "text": [
            "Drive already mounted at /content/drive; to attempt to forcibly remount, call drive.mount(\"/content/drive\", force_remount=True).\n",
            "Drive already mounted at /content/drive; to attempt to forcibly remount, call drive.mount(\"/content/drive\", force_remount=True).\n"
          ]
        }
      ]
    },
    {
      "cell_type": "code",
      "source": [
        "path = \"/content/drive/MyDrive/ColabNotebooks/Reviews.csv.zip\"\n",
        "\n",
        "!unzip \"{path}\""
      ],
      "metadata": {
        "colab": {
          "base_uri": "https://localhost:8080/"
        },
        "id": "Shv2xw78jTtF",
        "outputId": "1d84c26f-b79b-4e6a-e346-9d671758fea0",
        "collapsed": true
      },
      "execution_count": null,
      "outputs": [
        {
          "output_type": "stream",
          "name": "stdout",
          "text": [
            "Archive:  /content/drive/MyDrive/ColabNotebooks/Reviews.csv.zip\n",
            "  inflating: Reviews.csv             \n"
          ]
        }
      ]
    },
    {
      "cell_type": "code",
      "source": [
        "import pandas as pd\n",
        "df = pd.read_csv(\"Reviews.csv\")"
      ],
      "metadata": {
        "id": "nqs_DV10dsN8",
        "colab": {
          "base_uri": "https://localhost:8080/"
        },
        "outputId": "aa133a31-5206-423e-c90e-842b66e24e63",
        "collapsed": true
      },
      "execution_count": null,
      "outputs": [
        {
          "output_type": "stream",
          "name": "stdout",
          "text": [
            "Top 10 Produk dengan Ulasan Terbanyak:\n",
            "ProductId\n",
            "B007JFMH8M    913\n",
            "B002QWHJOU    632\n",
            "B0026RQTGE    632\n",
            "B002QWP89S    632\n",
            "B002QWP8H0    632\n",
            "B003B3OOPA    623\n",
            "B001EO5Q64    567\n",
            "B007M83302    564\n",
            "B007M832YY    564\n",
            "B0013NUGDE    564\n",
            "Name: count, dtype: int64\n"
          ]
        }
      ]
    },
    {
      "cell_type": "code",
      "source": [
        "# 1. Cari rating dibawah 3\n",
        "df_semua_negatif = df[df['Score'] < 3].copy()\n",
        "print(f\"Total ulasan negatif di seluruh dataset: {len(df_semua_negatif)}\")\n",
        "\n",
        "# 2.Cari produk mana yang paling sering muncul\n",
        "produk_paling_dikeluhkan = df_semua_negatif['ProductId'].value_counts()\n",
        "\n",
        "# 3. Tampilkan 5 produk teratas yang paling banyak ulasan negatifnya\n",
        "print(\"\\nTop 5 Produk dengan Ulasan Negatif Terbanyak:\")\n",
        "print(produk_paling_dikeluhkan.head(5))\n",
        "\n",
        "# 4. Ambil ID produk yang paling atas untuk dianalisis\n",
        "ID_PRODUK_TARGET_BARU = produk_paling_dikeluhkan.idxmax()\n",
        "print(f\"\\nProduk yang akan dianalisis sekarang adalah: {ID_PRODUK_TARGET_BARU}\")\n",
        "\n",
        "# 5. Lanjutkan analisis pada produk target baru ini\n",
        "df_satu_produk = df[df['ProductId'] == ID_PRODUK_TARGET_BARU].copy()\n",
        "df_negatif = df_satu_produk[df_satu_produk['Score'] < 3].copy()\n",
        "\n",
        "print(f\"Jumlah ulasan negatif untuk produk {ID_PRODUK_TARGET_BARU} adalah: {len(df_negatif)}\")"
      ],
      "metadata": {
        "colab": {
          "base_uri": "https://localhost:8080/"
        },
        "id": "dgw7gLhYwK4T",
        "outputId": "8de1f076-ed4b-4bcf-9296-5bc8c260a526",
        "collapsed": true
      },
      "execution_count": null,
      "outputs": [
        {
          "output_type": "stream",
          "name": "stdout",
          "text": [
            "Total ulasan negatif di seluruh dataset: 82037\n",
            "\n",
            "Top 5 Produk dengan Ulasan Negatif Terbanyak:\n",
            "ProductId\n",
            "B000KV61FC    167\n",
            "B000KV7ZGQ    167\n",
            "B0041NYV8E    146\n",
            "B005K4Q4LK    141\n",
            "B005K4Q34S    141\n",
            "Name: count, dtype: int64\n",
            "\n",
            "Produk yang akan dianalisis sekarang adalah: B000KV61FC\n",
            "Jumlah ulasan negatif untuk produk B000KV61FC adalah: 167\n"
          ]
        }
      ]
    },
    {
      "cell_type": "code",
      "source": [
        "# Ambil 3 ulasan pertama dari kolom 'Text'\n",
        "sampel_ulasan = df_satu_produk['Text'].head(3).tolist()\n",
        "\n",
        "# Gabungkan 3 ulasan\n",
        "konteks_ulasan = \"\\n\\n---\\n\\n\".join(sampel_ulasan)"
      ],
      "metadata": {
        "id": "-w1SYAxkzR-d"
      },
      "execution_count": null,
      "outputs": []
    },
    {
      "cell_type": "code",
      "source": [
        "def create_product_id_prompt(konteks):\n",
        "    prompt = f\"\"\"\n",
        "    Tugas: Berdasarkan kumpulan ulasan pelanggan berikut, apa nama atau jenis produk yang paling mungkin sedang dibicarakan? Jawab dengan nama produk atau jenisnya secara singkat dan jelas.\n",
        "\n",
        "    Kumpulan Ulasan:\n",
        "    {konteks}\n",
        "\n",
        "    Nama atau Jenis Produk yang Paling Mungkin:\n",
        "    \"\"\"\n",
        "    return prompt"
      ],
      "metadata": {
        "id": "6zSAlhOQymon"
      },
      "execution_count": null,
      "outputs": []
    },
    {
      "cell_type": "code",
      "source": [
        "# Menemukan produk sesuai generate Ai\n",
        "prompt_identifikasi = create_product_id_prompt(konteks_ulasan)\n",
        "\n",
        "# Panggil model AI\n",
        "nama_produk_hasil_ai = llm.invoke(prompt_identifikasi)\n",
        "\n",
        "print(f\"ID Produk: {ID_PRODUK_TARGET_BARU}\")\n",
        "print(f\"Hasil identifikasi AI: Produk ini kemungkinan adalah -> {nama_produk_hasil_ai.strip()}\")"
      ],
      "metadata": {
        "colab": {
          "base_uri": "https://localhost:8080/"
        },
        "id": "Sv76qvbjzFkt",
        "outputId": "53d4f259-0fad-496f-bf83-ca9e80a1c3c3",
        "collapsed": true
      },
      "execution_count": null,
      "outputs": [
        {
          "output_type": "stream",
          "name": "stdout",
          "text": [
            "ID Produk: B000KV61FC\n",
            "Hasil identifikasi AI: Produk ini kemungkinan adalah -> The product being discussed is the \"Tug-a-jug.\" It's a dog toy designed for interactive play, training, and feeding. It consists of a rubber bottle with holes along its body, allowing treats or kibble to fall out as the dog bats it around.\n"
          ]
        }
      ]
    },
    {
      "cell_type": "code",
      "source": [
        "def create_dog_toy_prompt(ulasan_teks):\n",
        "    # Kategori keluhan\n",
        "    kategori_keluhan = \"Daya Tahan & Kualitas, Desain & Fungsi, Keamanan Produk, Minat Anjing, Harga\"\n",
        "\n",
        "    # Instruksi\n",
        "    prompt = f\"\"\"\n",
        "    Tugas: Analisis ulasan pelanggan tentang mainan anjing \"Tug-a-jug\" berikut. Tentukan kategori keluhan utamanya.\n",
        "    Pilih SATU kategori paling dominan dari daftar ini:\n",
        "    - Daya Tahan & Kualitas (misal: mudah hancur, rusak digigit, material jelek, pecah)\n",
        "    - Desain & Fungsi (misal: makanan sulit keluar, terlalu mudah keluar, sulit dibersihkan, ukuran tidak pas)\n",
        "    - Keamanan Produk (misal: bagian kecil copot, berbahaya jika tertelan, material beracun)\n",
        "    - Minat Anjing (misal: anjing tidak suka, takut dengan mainan, tidak mau pakai)\n",
        "    - Harga (misal: terlalu mahal, tidak sepadan)\n",
        "\n",
        "    Ulasan Pelanggan: \"{ulasan_teks}\"\n",
        "\n",
        "    Kategori Keluhan:\n",
        "    \"\"\"\n",
        "    return prompt"
      ],
      "metadata": {
        "id": "w-dmMpM92gOk"
      },
      "execution_count": null,
      "outputs": []
    },
    {
      "cell_type": "code",
      "source": [
        "import time\n",
        "\n",
        "hasil_analisis = []\n",
        "\n",
        "print(\"Memulai analisis dengan AI...\")\n",
        "for index, baris in df_negatif.iterrows():\n",
        "\n",
        "    teks_ulasan = baris['Text']\n",
        "\n",
        "    # Buat prompt dengan fungsi yang kita buat\n",
        "    prompt_untuk_ai = create_dog_toy_prompt(teks_ulasan)\n",
        "\n",
        "    try:\n",
        "        # Panggil model AI dengan prompt\n",
        "        response = llm.invoke(prompt_untuk_ai)\n",
        "\n",
        "        # Tambahkan hasil (response) ke dalam list\n",
        "        hasil_analisis.append(response.strip())\n",
        "        print(f\"Ulasan ke-{index+1} selesai dianalisis. Kategori: {response.strip()}\")\n",
        "\n",
        "    except Exception as e:\n",
        "        # Jika ada error dari API, kita catat sebagai 'Gagal'\n",
        "        print(f\"Error pada ulasan ke-{index+1}: {e}\")\n",
        "        hasil_analisis.append(\"Gagal Analisis\")\n",
        "\n",
        "    time.sleep(0.5) # Beri jeda 0.5 detik\n",
        "\n",
        "# Tambahkan hasil analisis sebagai kolom baru di dataframe\n",
        "df_negatif['Kategori'] = hasil_analisis\n",
        "\n",
        "print(\"\\nAnalisis selesai! Hasilnya sudah ditambahkan ke dataframe.\")\n",
        "print(df_negatif[['Text', 'Kategori']].head())"
      ],
      "metadata": {
        "id": "-TrSj3PX2hH8"
      },
      "execution_count": null,
      "outputs": []
    },
    {
      "cell_type": "code",
      "source": [
        "# Hitung jumlah ulasan untuk setiap kategori\n",
        "jumlah_per_kategori = df_negatif['Kategori'].value_counts()\n",
        "\n",
        "# Ambil 2 kategori teratas\n",
        "top_2_keluhan = jumlah_per_kategori.head(2)\n",
        "\n",
        "print(\"--- Top2 Keluhan Utama Pelanggan ---\")\n",
        "print(top_2_keluhan)"
      ],
      "metadata": {
        "colab": {
          "base_uri": "https://localhost:8080/"
        },
        "id": "9YKGgSPHz-mf",
        "outputId": "36860184-70f8-4790-a082-52b260fae857",
        "collapsed": true
      },
      "execution_count": null,
      "outputs": [
        {
          "output_type": "stream",
          "name": "stdout",
          "text": [
            "--- Top2 Keluhan Utama Pelanggan ---\n",
            "Kategori\n",
            "Desain & Fungsi\\n\\nThe main complaint in the customer review revolves around the design and functionality of the Tug-a-Jug dog toy. The customer mentions that their 20-lb Papillon was unable to figure out how to use the toy independently, despite being highly motivated by food. This suggests that the toy's design may be too complex or not intuitive enough for the dog, making it difficult for her to play with independently. The customer also notes that she eventually ended up carrying the toy around without engaging with it, indicating a failure in the toy's intended function as an interactive plaything.    1\n",
            "Based on the customer review, the primary category of complaint for the \"Tug-a-jug\" dog toy is \"Daya Tahan & Kualitas\" (Durability & Quality). The customer mentions that their dog managed to destroy the toy within 4 hours, the rubber rope didn't withstand chewing, and the jug was bulky and caused the dog to trip over it. Additionally, the treats didn't come out easily, leading the dog to tear at the bottom of the jug.                                                                                                                                                                                                 1\n",
            "Name: count, dtype: int64\n"
          ]
        }
      ]
    },
    {
      "cell_type": "code",
      "source": [
        "# 1. Siapkan ringkasan temuan untuk diberikan kepada AI\n",
        "\n",
        "ringkasan_temuan = \"\"\n",
        "for kategori, jumlah in top_2_keluhan.items():\n",
        "    ringkasan_temuan += f\"- {kategori} (disebutkan dalam {jumlah} ulasan negatif)\\n\"\n",
        "\n",
        "# 2. Buat fungsi prompt untuk meminta rekomendasi\n",
        "def create_recommendation_prompt(product_name, summary):\n",
        "    prompt = f\"\"\"\n",
        "    Tugas: Anda adalah seorang Product Manager Analyst yang berpengalaman.\n",
        "    Produk yang sedang dianalisis adalah mainan anjing bernama \"{product_name}\".\n",
        "\n",
        "    Berdasarkan analisis sentimen terhadap ulasan negatif pelanggan, ditemukan 2 masalah utama sebagai berikut:\n",
        "    {summary}\n",
        "\n",
        "    Berdasarkan 2 masalah utama tersebut, berikan rekomendasi yang konkret dan bisa ditindaklanjuti (actionable) untuk tim pengembangan produk.\n",
        "    Sajikan dalam format poin-poin untuk setiap kategori masalah.\n",
        "\n",
        "    Contoh Jawaban:\n",
        "    Rekomendasi untuk Tim Produk:\n",
        "    1.  **Terkait [Kategori Masalah 1]:**\n",
        "        * [Rekomendasi spesifik 1A]\n",
        "        * [Rekomendasi spesifik 1B]\n",
        "    2.  **Terkait [Kategori Masalah 2]:**\n",
        "        * [Rekomendasi spesifik 2A]\n",
        "\n",
        "    Rekomendasi Anda:\n",
        "    \"\"\"\n",
        "    return prompt\n",
        "\n",
        "# 3. Panggil AI untuk mendapatkan rekomendasi strategis\n",
        "\n",
        "nama_produk = \"Tug-a-jug\"\n",
        "prompt_rekomendasi = create_recommendation_prompt(nama_produk, ringkasan_temuan)\n",
        "\n",
        "rekomendasi_final = llm.invoke(prompt_rekomendasi)\n",
        "\n",
        "# 4. Tampilkan hasil akhir\n",
        "print(\"\\n--- Rekomendasi Strategis dari AI untuk Tim Produk ---\")\n",
        "print(rekomendasi_final.strip())"
      ],
      "metadata": {
        "colab": {
          "base_uri": "https://localhost:8080/"
        },
        "collapsed": true,
        "id": "1gsMQzKaHjPa",
        "outputId": "24a92e9b-7d65-4bcf-c822-c156afe34d02"
      },
      "execution_count": null,
      "outputs": [
        {
          "output_type": "stream",
          "name": "stdout",
          "text": [
            "\n",
            "--- Rekomendasi Strategis dari AI untuk Tim Produk ---\n",
            "1. **Terkait Desain & Fungsi:**\n",
            "   - *1A* Conduct user testing with a diverse range of dog breeds and sizes to ensure the toy's design is intuitive and accessible for various dogs.\n",
            "   - *1B* Simplify the toy's mechanism to make it more user-friendly for dogs, possibly by reducing the complexity of the rope system or incorporating visual cues to guide the dog in using the toy.\n",
            "\n",
            "2. **Terkait Daya Tahan & Kualitas:**\n",
            "   - *2A* Source higher-quality, more durable materials for the toy's components, such as reinforced rubber ropes and a sturdier jug, to withstand aggressive chewing and prolonged play.\n",
            "   - *2B* Redesign the treat dispensing mechanism to ensure treats release more easily and consistently, reducing the likelihood of dog frustration and damage to the toy.\n",
            "   - *2C* Implement a quality control process to ensure each Tug-a-Jug meets durability standards before reaching customers.\n",
            "\n",
            "By addressing these actionable recommendations, the development team can improve the Tug-a-Jug dog toy's design, functionality, durability, and overall quality, leading to a more satisfying user experience for dogs and their owners.\n"
          ]
        }
      ]
    },
    {
      "cell_type": "code",
      "source": [
        "# membersihkan kategori\n",
        "def bersihkan_kategori(jawaban_ai):\n",
        "\n",
        "    kategori_valid = [\"Daya Tahan & Kualitas\", \"Desain & Fungsi\", \"Keamanan Produk\", \"Minat Anjing\", \"Harga\"]\n",
        "\n",
        "    for kategori in kategori_valid:\n",
        "\n",
        "        if kategori in jawaban_ai:\n",
        "            return kategori\n",
        "\n",
        "    return \"Tidak Terkategori\""
      ],
      "metadata": {
        "id": "bqYypFCyQvnE"
      },
      "execution_count": null,
      "outputs": []
    },
    {
      "cell_type": "code",
      "source": [
        "\n",
        "df_negatif['Kategori_Bersih'] = df_negatif['Kategori'].apply(bersihkan_kategori)\n",
        "\n",
        "print(\"--- Hasil Setelah Pembersihan ---\")\n",
        "print(df_negatif['Kategori_Bersih'].value_counts())"
      ],
      "metadata": {
        "colab": {
          "base_uri": "https://localhost:8080/"
        },
        "collapsed": true,
        "id": "GMN4Z2rVQyRr",
        "outputId": "f0e2f437-5a6e-406a-b78d-023ee5ec2274"
      },
      "execution_count": null,
      "outputs": [
        {
          "output_type": "stream",
          "name": "stdout",
          "text": [
            "--- Hasil Setelah Pembersihan ---\n",
            "Kategori_Bersih\n",
            "Daya Tahan & Kualitas    84\n",
            "Desain & Fungsi          49\n",
            "Minat Anjing             32\n",
            "Keamanan Produk           2\n",
            "Name: count, dtype: int64\n"
          ]
        }
      ]
    },
    {
      "cell_type": "code",
      "source": [
        "import matplotlib.pyplot as plt\n",
        "import seaborn as sns\n",
        "\n",
        "sns.set(style=\"whitegrid\")\n",
        "plt.figure(figsize=(12, 8))\n",
        "\n",
        "grafik = sns.countplot(\n",
        "    y='Kategori_Bersih',\n",
        "    data=df_negatif,\n",
        "    order=df_negatif['Kategori_Bersih'].value_counts().index,\n",
        "    palette='viridis'\n",
        ")\n",
        "\n",
        "grafik.set_title('Peringkat Keluhan Utama pada Mainan Anjing \"Tug-a-Jug\"', fontsize=16)\n",
        "grafik.set_xlabel('Jumlah Ulasan Negatif', fontsize=12)\n",
        "grafik.set_ylabel('Kategori Keluhan', fontsize=12)\n",
        "\n",
        "plt.show()"
      ],
      "metadata": {
        "colab": {
          "base_uri": "https://localhost:8080/",
          "height": 651
        },
        "id": "cWjP2ghiRLmr",
        "outputId": "a0957423-70da-4030-c6bf-8b8c44bd7e00"
      },
      "execution_count": null,
      "outputs": [
        {
          "output_type": "stream",
          "name": "stderr",
          "text": [
            "/tmp/ipython-input-2862025478.py:8: FutureWarning: \n",
            "\n",
            "Passing `palette` without assigning `hue` is deprecated and will be removed in v0.14.0. Assign the `y` variable to `hue` and set `legend=False` for the same effect.\n",
            "\n",
            "  grafik = sns.countplot(\n"
          ]
        },
        {
          "output_type": "display_data",
          "data": {
            "text/plain": [
              "<Figure size 1200x800 with 1 Axes>"
            ],
            "image/png": "[encoded data removed]"
          },
          "metadata": {}
        }
      ]
    }
  ]
}