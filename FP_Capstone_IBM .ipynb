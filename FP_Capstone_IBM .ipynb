{
  "nbformat": 4,
  "nbformat_minor": 0,
  "metadata": {
    "colab": {
      "provenance": []
    },
    "kernelspec": {
      "name": "python3",
      "display_name": "Python 3"
    },
    "language_info": {
      "name": "python"
    }
  },
  "cells": [
    {
      "cell_type": "code",
      "execution_count": 3,
      "metadata": {
        "id": "WcPuozNRjZvS",
        "colab": {
          "base_uri": "https://localhost:8080/"
        },
        "collapsed": true,
        "outputId": "7c92708a-509b-4157-bcc2-242a05e47120"
      },
      "outputs": [
        {
          "output_type": "stream",
          "name": "stdout",
          "text": [
            "Requirement already satisfied: langchain_community in /usr/local/lib/python3.11/dist-packages (0.3.27)\n",
            "Requirement already satisfied: langchain-core<1.0.0,>=0.3.66 in /usr/local/lib/python3.11/dist-packages (from langchain_community) (0.3.72)\n",
            "Requirement already satisfied: langchain<1.0.0,>=0.3.26 in /usr/local/lib/python3.11/dist-packages (from langchain_community) (0.3.27)\n",
            "Requirement already satisfied: SQLAlchemy<3,>=1.4 in /usr/local/lib/python3.11/dist-packages (from langchain_community) (2.0.41)\n",
            "Requirement already satisfied: requests<3,>=2 in /usr/local/lib/python3.11/dist-packages (from langchain_community) (2.32.3)\n",
            "Requirement already satisfied: PyYAML>=5.3 in /usr/local/lib/python3.11/dist-packages (from langchain_community) (6.0.2)\n",
            "Requirement already satisfied: aiohttp<4.0.0,>=3.8.3 in /usr/local/lib/python3.11/dist-packages (from langchain_community) (3.12.14)\n",
            "Requirement already satisfied: tenacity!=8.4.0,<10,>=8.1.0 in /usr/local/lib/python3.11/dist-packages (from langchain_community) (8.5.0)\n",
            "Requirement already satisfied: dataclasses-json<0.7,>=0.5.7 in /usr/local/lib/python3.11/dist-packages (from langchain_community) (0.6.7)\n",
            "Requirement already satisfied: pydantic-settings<3.0.0,>=2.4.0 in /usr/local/lib/python3.11/dist-packages (from langchain_community) (2.10.1)\n",
            "Requirement already satisfied: langsmith>=0.1.125 in /usr/local/lib/python3.11/dist-packages (from langchain_community) (0.4.8)\n",
            "Requirement already satisfied: httpx-sse<1.0.0,>=0.4.0 in /usr/local/lib/python3.11/dist-packages (from langchain_community) (0.4.1)\n",
            "Requirement already satisfied: numpy>=1.26.2 in /usr/local/lib/python3.11/dist-packages (from langchain_community) (2.0.2)\n",
            "Requirement already satisfied: aiohappyeyeballs>=2.5.0 in /usr/local/lib/python3.11/dist-packages (from aiohttp<4.0.0,>=3.8.3->langchain_community) (2.6.1)\n",
            "Requirement already satisfied: aiosignal>=1.4.0 in /usr/local/lib/python3.11/dist-packages (from aiohttp<4.0.0,>=3.8.3->langchain_community) (1.4.0)\n",
            "Requirement already satisfied: attrs>=17.3.0 in /usr/local/lib/python3.11/dist-packages (from aiohttp<4.0.0,>=3.8.3->langchain_community) (25.3.0)\n",
            "Requirement already satisfied: frozenlist>=1.1.1 in /usr/local/lib/python3.11/dist-packages (from aiohttp<4.0.0,>=3.8.3->langchain_community) (1.7.0)\n",
            "Requirement already satisfied: multidict<7.0,>=4.5 in /usr/local/lib/python3.11/dist-packages (from aiohttp<4.0.0,>=3.8.3->langchain_community) (6.6.3)\n",
            "Requirement already satisfied: propcache>=0.2.0 in /usr/local/lib/python3.11/dist-packages (from aiohttp<4.0.0,>=3.8.3->langchain_community) (0.3.2)\n",
            "Requirement already satisfied: yarl<2.0,>=1.17.0 in /usr/local/lib/python3.11/dist-packages (from aiohttp<4.0.0,>=3.8.3->langchain_community) (1.20.1)\n",
            "Requirement already satisfied: marshmallow<4.0.0,>=3.18.0 in /usr/local/lib/python3.11/dist-packages (from dataclasses-json<0.7,>=0.5.7->langchain_community) (3.26.1)\n",
            "Requirement already satisfied: typing-inspect<1,>=0.4.0 in /usr/local/lib/python3.11/dist-packages (from dataclasses-json<0.7,>=0.5.7->langchain_community) (0.9.0)\n",
            "Requirement already satisfied: langchain-text-splitters<1.0.0,>=0.3.9 in /usr/local/lib/python3.11/dist-packages (from langchain<1.0.0,>=0.3.26->langchain_community) (0.3.9)\n",
            "Requirement already satisfied: pydantic<3.0.0,>=2.7.4 in /usr/local/lib/python3.11/dist-packages (from langchain<1.0.0,>=0.3.26->langchain_community) (2.11.7)\n",
            "Requirement already satisfied: jsonpatch<2.0,>=1.33 in /usr/local/lib/python3.11/dist-packages (from langchain-core<1.0.0,>=0.3.66->langchain_community) (1.33)\n",
            "Requirement already satisfied: typing-extensions>=4.7 in /usr/local/lib/python3.11/dist-packages (from langchain-core<1.0.0,>=0.3.66->langchain_community) (4.14.1)\n",
            "Requirement already satisfied: packaging>=23.2 in /usr/local/lib/python3.11/dist-packages (from langchain-core<1.0.0,>=0.3.66->langchain_community) (25.0)\n",
            "Requirement already satisfied: httpx<1,>=0.23.0 in /usr/local/lib/python3.11/dist-packages (from langsmith>=0.1.125->langchain_community) (0.28.1)\n",
            "Requirement already satisfied: orjson<4.0.0,>=3.9.14 in /usr/local/lib/python3.11/dist-packages (from langsmith>=0.1.125->langchain_community) (3.11.1)\n",
            "Requirement already satisfied: requests-toolbelt<2.0.0,>=1.0.0 in /usr/local/lib/python3.11/dist-packages (from langsmith>=0.1.125->langchain_community) (1.0.0)\n",
            "Requirement already satisfied: zstandard<0.24.0,>=0.23.0 in /usr/local/lib/python3.11/dist-packages (from langsmith>=0.1.125->langchain_community) (0.23.0)\n",
            "Requirement already satisfied: python-dotenv>=0.21.0 in /usr/local/lib/python3.11/dist-packages (from pydantic-settings<3.0.0,>=2.4.0->langchain_community) (1.1.1)\n",
            "Requirement already satisfied: typing-inspection>=0.4.0 in /usr/local/lib/python3.11/dist-packages (from pydantic-settings<3.0.0,>=2.4.0->langchain_community) (0.4.1)\n",
            "Requirement already satisfied: charset-normalizer<4,>=2 in /usr/local/lib/python3.11/dist-packages (from requests<3,>=2->langchain_community) (3.4.2)\n",
            "Requirement already satisfied: idna<4,>=2.5 in /usr/local/lib/python3.11/dist-packages (from requests<3,>=2->langchain_community) (3.10)\n",
            "Requirement already satisfied: urllib3<3,>=1.21.1 in /usr/local/lib/python3.11/dist-packages (from requests<3,>=2->langchain_community) (2.5.0)\n",
            "Requirement already satisfied: certifi>=2017.4.17 in /usr/local/lib/python3.11/dist-packages (from requests<3,>=2->langchain_community) (2025.7.14)\n",
            "Requirement already satisfied: greenlet>=1 in /usr/local/lib/python3.11/dist-packages (from SQLAlchemy<3,>=1.4->langchain_community) (3.2.3)\n",
            "Requirement already satisfied: anyio in /usr/local/lib/python3.11/dist-packages (from httpx<1,>=0.23.0->langsmith>=0.1.125->langchain_community) (4.9.0)\n",
            "Requirement already satisfied: httpcore==1.* in /usr/local/lib/python3.11/dist-packages (from httpx<1,>=0.23.0->langsmith>=0.1.125->langchain_community) (1.0.9)\n",
            "Requirement already satisfied: h11>=0.16 in /usr/local/lib/python3.11/dist-packages (from httpcore==1.*->httpx<1,>=0.23.0->langsmith>=0.1.125->langchain_community) (0.16.0)\n",
            "Requirement already satisfied: jsonpointer>=1.9 in /usr/local/lib/python3.11/dist-packages (from jsonpatch<2.0,>=1.33->langchain-core<1.0.0,>=0.3.66->langchain_community) (3.0.0)\n",
            "Requirement already satisfied: annotated-types>=0.6.0 in /usr/local/lib/python3.11/dist-packages (from pydantic<3.0.0,>=2.7.4->langchain<1.0.0,>=0.3.26->langchain_community) (0.7.0)\n",
            "Requirement already satisfied: pydantic-core==2.33.2 in /usr/local/lib/python3.11/dist-packages (from pydantic<3.0.0,>=2.7.4->langchain<1.0.0,>=0.3.26->langchain_community) (2.33.2)\n",
            "Requirement already satisfied: mypy-extensions>=0.3.0 in /usr/local/lib/python3.11/dist-packages (from typing-inspect<1,>=0.4.0->dataclasses-json<0.7,>=0.5.7->langchain_community) (1.1.0)\n",
            "Requirement already satisfied: sniffio>=1.1 in /usr/local/lib/python3.11/dist-packages (from anyio->httpx<1,>=0.23.0->langsmith>=0.1.125->langchain_community) (1.3.1)\n",
            "Requirement already satisfied: replicate in /usr/local/lib/python3.11/dist-packages (1.0.7)\n",
            "Requirement already satisfied: httpx<1,>=0.21.0 in /usr/local/lib/python3.11/dist-packages (from replicate) (0.28.1)\n",
            "Requirement already satisfied: packaging in /usr/local/lib/python3.11/dist-packages (from replicate) (25.0)\n",
            "Requirement already satisfied: pydantic>1.10.7 in /usr/local/lib/python3.11/dist-packages (from replicate) (2.11.7)\n",
            "Requirement already satisfied: typing_extensions>=4.5.0 in /usr/local/lib/python3.11/dist-packages (from replicate) (4.14.1)\n",
            "Requirement already satisfied: anyio in /usr/local/lib/python3.11/dist-packages (from httpx<1,>=0.21.0->replicate) (4.9.0)\n",
            "Requirement already satisfied: certifi in /usr/local/lib/python3.11/dist-packages (from httpx<1,>=0.21.0->replicate) (2025.7.14)\n",
            "Requirement already satisfied: httpcore==1.* in /usr/local/lib/python3.11/dist-packages (from httpx<1,>=0.21.0->replicate) (1.0.9)\n",
            "Requirement already satisfied: idna in /usr/local/lib/python3.11/dist-packages (from httpx<1,>=0.21.0->replicate) (3.10)\n",
            "Requirement already satisfied: h11>=0.16 in /usr/local/lib/python3.11/dist-packages (from httpcore==1.*->httpx<1,>=0.21.0->replicate) (0.16.0)\n",
            "Requirement already satisfied: annotated-types>=0.6.0 in /usr/local/lib/python3.11/dist-packages (from pydantic>1.10.7->replicate) (0.7.0)\n",
            "Requirement already satisfied: pydantic-core==2.33.2 in /usr/local/lib/python3.11/dist-packages (from pydantic>1.10.7->replicate) (2.33.2)\n",
            "Requirement already satisfied: typing-inspection>=0.4.0 in /usr/local/lib/python3.11/dist-packages (from pydantic>1.10.7->replicate) (0.4.1)\n",
            "Requirement already satisfied: sniffio>=1.1 in /usr/local/lib/python3.11/dist-packages (from anyio->httpx<1,>=0.21.0->replicate) (1.3.1)\n"
          ]
        }
      ],
      "source": [
        "!pip install langchain_community\n",
        "!pip install replicate"
      ]
    },
    {
      "cell_type": "code",
      "source": [
        "import os\n",
        "from google.colab import userdata\n",
        "\n",
        "api_token = userdata.get(\"api_token\")\n",
        "os.environ[\"REPLICATE_API_TOKEN\"] = api_token"
      ],
      "metadata": {
        "id": "SB3wJC9rdDb8"
      },
      "execution_count": 4,
      "outputs": []
    },
    {
      "cell_type": "code",
      "source": [
        "from langchain_community.llms import Replicate\n",
        "\n",
        "model_params = {\n",
        "    \"temperature\": 0.1,\n",
        "    \"max_new_tokens\": 512,\n",
        "    \"repetition_penalty\": 1.1\n",
        "}\n",
        "\n",
        "\n",
        "\n",
        "llm = Replicate(\n",
        "    model = \"ibm-granite/granite-3.3-8b-instruct\",\n",
        "    model_kwargs=model_params\n",
        ")"
      ],
      "metadata": {
        "id": "O2XFcIqNbHNO"
      },
      "execution_count": 5,
      "outputs": []
    },
    {
      "cell_type": "code",
      "source": [
        "from google.colab import drive\n",
        "drive.mount('/content/drive')"
      ],
      "metadata": {
        "id": "jHZ70Q6Bje80",
        "colab": {
          "base_uri": "https://localhost:8080/"
        },
        "outputId": "5ce9ce6c-f9bd-466c-c1e9-32352aa5299c",
        "collapsed": true
      },
      "execution_count": 6,
      "outputs": [
        {
          "output_type": "stream",
          "name": "stdout",
          "text": [
            "Mounted at /content/drive\n"
          ]
        }
      ]
    },
    {
      "cell_type": "code",
      "source": [
        "path = \"/content/drive/MyDrive/ColabNotebooks/Reviews.csv.zip\"\n",
        "\n",
        "!unzip \"{path}\""
      ],
      "metadata": {
        "colab": {
          "base_uri": "https://localhost:8080/"
        },
        "id": "Shv2xw78jTtF",
        "outputId": "d6b50508-0961-4547-aac4-a523df029acd",
        "collapsed": true
      },
      "execution_count": 7,
      "outputs": [
        {
          "output_type": "stream",
          "name": "stdout",
          "text": [
            "Archive:  /content/drive/MyDrive/ColabNotebooks/Reviews.csv.zip\n",
            "  inflating: Reviews.csv             \n"
          ]
        }
      ]
    },
    {
      "cell_type": "code",
      "source": [
        "import pandas as pd\n",
        "df = pd.read_csv(\"Reviews.csv\")"
      ],
      "metadata": {
        "id": "nqs_DV10dsN8",
        "collapsed": true
      },
      "execution_count": 8,
      "outputs": []
    },
    {
      "cell_type": "code",
      "source": [
        "# 1. Cari rating dibawah 3\n",
        "df_semua_negatif = df[df['Score'] < 3].copy()\n",
        "print(f\"Total ulasan negatif di seluruh dataset: {len(df_semua_negatif)}\")\n",
        "\n",
        "# 2.Cari produk mana yang paling sering muncul\n",
        "produk_paling_dikeluhkan = df_semua_negatif['ProductId'].value_counts()\n",
        "\n",
        "# 3. Tampilkan 5 produk teratas yang paling banyak ulasan negatifnya\n",
        "print(\"\\nTop 5 Produk dengan Ulasan Negatif Terbanyak:\")\n",
        "print(produk_paling_dikeluhkan.head(5))\n",
        "\n",
        "# 4. Ambil ID produk yang paling atas untuk dianalisis\n",
        "ID_PRODUK_TARGET_BARU = produk_paling_dikeluhkan.idxmax()\n",
        "print(f\"\\nProduk yang akan dianalisis sekarang adalah: {ID_PRODUK_TARGET_BARU}\")\n",
        "\n",
        "# 5. Lanjutkan analisis pada produk target baru ini\n",
        "df_satu_produk = df[df['ProductId'] == ID_PRODUK_TARGET_BARU].copy()\n",
        "df_negatif = df_satu_produk[df_satu_produk['Score'] < 3].copy()\n",
        "\n",
        "print(f\"Jumlah ulasan negatif untuk produk {ID_PRODUK_TARGET_BARU} adalah: {len(df_negatif)}\")"
      ],
      "metadata": {
        "colab": {
          "base_uri": "https://localhost:8080/"
        },
        "id": "dgw7gLhYwK4T",
        "outputId": "4ed37703-e27c-499d-c2bd-84cec1853695",
        "collapsed": true
      },
      "execution_count": 9,
      "outputs": [
        {
          "output_type": "stream",
          "name": "stdout",
          "text": [
            "Total ulasan negatif di seluruh dataset: 82037\n",
            "\n",
            "Top 5 Produk dengan Ulasan Negatif Terbanyak:\n",
            "ProductId\n",
            "B000KV61FC    167\n",
            "B000KV7ZGQ    167\n",
            "B0041NYV8E    146\n",
            "B005K4Q4LK    141\n",
            "B005K4Q34S    141\n",
            "Name: count, dtype: int64\n",
            "\n",
            "Produk yang akan dianalisis sekarang adalah: B000KV61FC\n",
            "Jumlah ulasan negatif untuk produk B000KV61FC adalah: 167\n"
          ]
        }
      ]
    },
    {
      "cell_type": "code",
      "source": [
        "# Ambil 3 ulasan pertama dari kolom 'Text'\n",
        "sampel_ulasan = df_satu_produk['Text'].head(3).tolist()\n",
        "\n",
        "# Gabungkan 3 ulasan\n",
        "konteks_ulasan = \"\\n\\n---\\n\\n\".join(sampel_ulasan)"
      ],
      "metadata": {
        "id": "-w1SYAxkzR-d"
      },
      "execution_count": 10,
      "outputs": []
    },
    {
      "cell_type": "code",
      "source": [
        "def create_product_id_prompt(konteks):\n",
        "    prompt = f\"\"\"\n",
        "    Tugas: Berdasarkan kumpulan ulasan pelanggan berikut, apa nama atau jenis produk yang paling mungkin sedang dibicarakan? Jawab dengan nama produk atau jenisnya secara singkat dan jelas.\n",
        "\n",
        "    Kumpulan Ulasan:\n",
        "    {konteks}\n",
        "\n",
        "    Nama atau Jenis Produk yang Paling Mungkin:\n",
        "    \"\"\"\n",
        "    return prompt"
      ],
      "metadata": {
        "id": "6zSAlhOQymon"
      },
      "execution_count": 11,
      "outputs": []
    },
    {
      "cell_type": "code",
      "source": [
        "# Menemukan produk sesuai generate Ai\n",
        "prompt_identifikasi = create_product_id_prompt(konteks_ulasan)\n",
        "\n",
        "# Panggil model AI\n",
        "nama_produk_hasil_ai = llm.invoke(prompt_identifikasi)\n",
        "\n",
        "print(f\"ID Produk: {ID_PRODUK_TARGET_BARU}\")\n",
        "print(f\"Hasil identifikasi AI: Produk ini kemungkinan adalah -> {nama_produk_hasil_ai.strip()}\")"
      ],
      "metadata": {
        "colab": {
          "base_uri": "https://localhost:8080/"
        },
        "id": "Sv76qvbjzFkt",
        "outputId": "d6a35a29-ba75-425c-f7ce-9ad2b0184430",
        "collapsed": true
      },
      "execution_count": 12,
      "outputs": [
        {
          "output_type": "stream",
          "name": "stdout",
          "text": [
            "ID Produk: B000KV61FC\n",
            "Hasil identifikasi AI: Produk ini kemungkinan adalah -> The product being discussed is the \"Tug-a-Jug.\" It's a dog toy designed for interactive play, training, and feeding. It consists of a rubber bottle with holes along its body, allowing treats or kibble to fall out as the dog bats it around.\n"
          ]
        }
      ]
    },
    {
      "cell_type": "code",
      "source": [
        "def create_dog_toy_prompt(ulasan_teks):\n",
        "    # Kategori keluhan\n",
        "    kategori_keluhan = \"Daya Tahan & Kualitas, Desain & Fungsi, Keamanan Produk, Minat Anjing, Harga\"\n",
        "\n",
        "    # Instruksi\n",
        "    prompt = f\"\"\"\n",
        "    Tugas: Analisis ulasan pelanggan tentang mainan anjing \"Tug-a-jug\" berikut. Tentukan kategori keluhan utamanya.\n",
        "    Pilih SATU kategori paling dominan dari daftar ini:\n",
        "    - Daya Tahan & Kualitas (misal: mudah hancur, rusak digigit, material jelek, pecah)\n",
        "    - Desain & Fungsi (misal: makanan sulit keluar, terlalu mudah keluar, sulit dibersihkan, ukuran tidak pas)\n",
        "    - Keamanan Produk (misal: bagian kecil copot, berbahaya jika tertelan, material beracun)\n",
        "    - Minat Anjing (misal: anjing tidak suka, takut dengan mainan, tidak mau pakai)\n",
        "    - Harga (misal: terlalu mahal, tidak sepadan)\n",
        "\n",
        "    Ulasan Pelanggan: \"{ulasan_teks}\"\n",
        "\n",
        "    Kategori Keluhan:\n",
        "    \"\"\"\n",
        "    return prompt"
      ],
      "metadata": {
        "id": "w-dmMpM92gOk"
      },
      "execution_count": 13,
      "outputs": []
    },
    {
      "cell_type": "code",
      "source": [
        "import time\n",
        "\n",
        "hasil_analisis = []\n",
        "\n",
        "print(\"Memulai analisis dengan AI...\")\n",
        "for index, baris in df_negatif.iterrows():\n",
        "\n",
        "    teks_ulasan = baris['Text']\n",
        "\n",
        "    # Buat prompt dengan fungsi yang kita buat\n",
        "    prompt_untuk_ai = create_dog_toy_prompt(teks_ulasan)\n",
        "\n",
        "    try:\n",
        "        # Panggil model AI dengan prompt\n",
        "        response = llm.invoke(prompt_untuk_ai)\n",
        "\n",
        "        # Tambahkan hasil (response) ke dalam list\n",
        "        hasil_analisis.append(response.strip())\n",
        "        print(f\"Ulasan ke-{index+1} selesai dianalisis. Kategori: {response.strip()}\")\n",
        "\n",
        "    except Exception as e:\n",
        "        # Jika ada error dari API, kita catat sebagai 'Gagal'\n",
        "        print(f\"Error pada ulasan ke-{index+1}: {e}\")\n",
        "        hasil_analisis.append(\"Gagal Analisis\")\n",
        "\n",
        "    time.sleep(0.5) # Beri jeda 0.5 detik\n",
        "\n",
        "# Tambahkan hasil analisis sebagai kolom baru di dataframe\n",
        "df_negatif['Kategori'] = hasil_analisis\n",
        "\n",
        "print(\"\\nAnalisis selesai! Hasilnya sudah ditambahkan ke dataframe.\")\n",
        "print(df_negatif[['Text', 'Kategori']].head())"
      ],
      "metadata": {
        "id": "-TrSj3PX2hH8",
        "colab": {
          "base_uri": "https://localhost:8080/"
        },
        "outputId": "4621927c-7e49-4e95-b27e-65ecc08cd09e"
      },
      "execution_count": 14,
      "outputs": [
        {
          "output_type": "stream",
          "name": "stdout",
          "text": [
            "Memulai analisis dengan AI...\n",
            "Ulasan ke-21739 selesai dianalisis. Kategori: Desain & Fungsi\n",
            "\n",
            "The main complaint in the customer review revolves around the usability and functionality of the Tug-a-Jug toy. The customer mentions that their 20-lb Papillon dog struggled to understand how to use the toy, despite being highly motivated by food. This indicates an issue with the toy's design making it difficult for the dog to engage with it independently. The customer also notes that they eventually had to assist their dog, implying that the toy's intended function was not effectively met. Therefore, the dominant category for this complaint is Desain & Fungsi (Design & Function).\n",
            "Ulasan ke-21747 selesai dianalisis. Kategori: Based on the customer review, the primary category of complaint for the \"Tug-a-jug\" dog toy is \"Daya Tahan & Kualitas\" (Durability & Quality). The customer mentions that their dog managed to destroy the toy within 4 hours, the rubber rope didn't withstand chewing, and the design caused the jug to be bulky and easily knocked around by the dog.\n",
            "Ulasan ke-21748 selesai dianalisis. Kategori: Based on the customer review, the primary category of complaint for the \"Tug-a-jug\" dog toy is \"Daya Tahan & Kualitas\" (Durability & Quality). The customer mentioned that their dog chewed through the rope and the spiky ball quickly, indicating issues with the toy's durability. The customer also expressed dissatisfaction with the toy's ability to hold the dog's interest, but the main concern is the toy's poor durability.\n",
            "Ulasan ke-21749 selesai dianalisis. Kategori: Keamanan Produk\n",
            "\n",
            "The primary concern in the customer review is the safety of the product. The dog ingested and became obstructed by the vanilla-infused rope, leading to severe health issues, including vomiting and inability to walk. The surgery revealed the rope knot in the dog's intestines, posing a significant risk. This situation falls under the \"Keamanan Produk\" (Product Safety) category.\n",
            "Ulasan ke-21783 selesai dianalisis. Kategori: Daya Tahan & Kualitas\n",
            "\n",
            "The main complaint category in this customer review is \"Daya Tahan & Kualitas\" (Durability & Quality). The customer mentions that out of three purchased Tug-a-jug toys, the lids cracked and broke within weeks, indicating a durability issue with the product's material.\n",
            "Ulasan ke-21786 selesai dianalisis. Kategori: Daya Tahan & Kualitas\n",
            "\n",
            "The primary complaint category in this customer review is Daya Tahan & Kualitas (Durability & Quality). The customer mentions that the toy, Tug-a-jug, broke after only ten minutes of use, rendering it useless. They also express concern about the broken pieces posing a choking hazard to the puppy. This indicates significant issues with the product's durability and quality.\n",
            "Ulasan ke-21796 selesai dianalisis. Kategori: Based on the customer review, the primary category of complaint for the \"Tug-a-jug\" dog toy is \"Minat Anjing\" (Dog's Interest). The customer mentions that despite the toy having features their blue heeler usually loves, the dog showed no interest in playing with it. The toy is described as durable, but ultimately unplayed with due to the dog's lack of enthusiasm.\n",
            "Ulasan ke-21802 selesai dianalisis. Kategori: Based on the customer review, the primary category of complaint for the \"Tug-a-jug\" dog toy is **Daya Tahan & Kualitas (Durability & Quality)**. The main issues highlighted are the toy's fragility, causing it to crack upon impact with hard surfaces, and the sharp pieces of plastic that posed a potential choking hazard for the dog. The toy's short duration of use before breaking and the high price point also contribute to this category.\n",
            "Ulasan ke-21803 selesai dianalisis. Kategori: Minat Anjing\n",
            "\n",
            "The primary complaint category from the customer review is \"Minat Anjing\" (Dog Interest). The customer mentions that their dogs, including a Sharpei/Golden Retriever mix, a Black Lab, and a Great Pyrenees, show no interest in the Tug-a-Jug toy. They prefer other toys like Kong, Buster Cube, or similar ones. However, the customer's sister's German Shepherd mix enjoys the Tug-a-Jug. This indicates that the toy's appeal depends on the individual dog's preferences, suggesting a lack of universal interest or engagement among different breeds and ages.\n",
            "Ulasan ke-21841 selesai dianalisis. Kategori: Based on the customer review, the primary category of complaint for the \"Tug-a-jug\" dog toy is **Daya Tahan & Kualitas (Durability & Quality)**. The customer reported that the toy was easily destroyed by a medium-sized dog within 20 minutes, with the dog chewing off the rubber toy and breaking off pieces of the plastic. This indicates significant issues with the toy's durability and material quality.\n",
            "Ulasan ke-21843 selesai dianalisis. Kategori: Based on the customer review, the primary category of complaint for the \"Tug-a-jug\" toy is \"Daya Tahan & Kualitas\" (Durability & Quality). The customer expressed disappointment as the rubber rope was chewed in half within just five minutes of use, indicating poor durability and quality.\n",
            "Ulasan ke-21846 selesai dianalisis. Kategori: Daya Tahan & Kualitas\n",
            "\n",
            "The main complaint category for the \"Tug-a-jug\" dog toy, based on the customer review, is Daya Tahan & Kualitas (Durability & Quality). The customer mentions that the plastic ropes were destroyed within 30 minutes of play, posing a potential choking hazard if swallowed by the dogs. This indicates a significant issue with the toy's durability and quality.\n",
            "Ulasan ke-21903 selesai dianalisis. Kategori: Desain & Fungsi\n",
            "\n",
            "The main complaint in the customer review revolves around the functionality and design of the \"Tug-a-jug\" toy for dogs. The customer mentions that despite placing small dog food inside, it was extremely difficult to retrieve, causing the dog to lose interest after only a few minutes. This issue falls under the category of \"Desain & Fungsi\" (Design & Function), as the toy did not perform as expected in engaging the dog during mealtime.\n",
            "Ulasan ke-21909 selesai dianalisis. Kategori: Desain & Fungsi\n",
            "\n",
            "The main complaint in the customer review revolves around the design and functionality of the \"Tug-a-jug\" toy. The customer mentions that the toy, which appears to have a rope, is actually a plastic imitation. This design confusion seems to hinder the dog's ability to interact with the toy as expected, as the dog doesn't understand it can tug at it like a regular rope. The customer's dog has no issue with other Busy Buddy toys or a Buster Cube, indicating the problem lies specifically with the design of the \"Tug-a-jug.\" Therefore, the primary category of complaint is Design & Fungsi.\n",
            "Ulasan ke-21910 selesai dianalisis. Kategori: Desain & Fungsi\n",
            "\n",
            "The main complaint in the customer review revolves around the inability of the dog to retrieve treats and the difficulty in extracting them manually. This indicates a problem with the design and functionality of the \"Tug-a-jug\" toy, making \"Desain & Fungsi\" the dominant category of concern.\n",
            "Ulasan ke-21911 selesai dianalisis. Kategori: Daya Tahan & Kualitas\n",
            "\n",
            "The customer's main complaints revolve around the toy's durability and quality. Their dog, an \"extreme chewer,\" managed to almost destroy the toy by day one, despite the product being advertised as durable. Additionally, the dog figured out how to unravel the rope and dump the treats out, rendering the toy useless. These issues fall under the category of Daya Tahan & Kualitas (Durability & Quality).\n",
            "Ulasan ke-21912 selesai dianalisis. Kategori: Based on the customer review, the primary category of complaint for the \"Tug-a-jug\" dog toy is **Daya Tahan & Kualitas (Durability & Quality)**. The customer reported that their 16-month-old black lab quickly ripped the rubber stopper in half, rendering the toy unusable. This indicates an issue with the toy's durability and quality, making it unsuitable for strong chewers.\n",
            "Ulasan ke-21913 selesai dianalisis. Kategori: Daya Tahan & Kualitas\n",
            "\n",
            "The main complaint in the customer review revolves around the durability and quality of the \"Tug-a-jug\" dog toy. The customer mentions that their dog chewed the \"rope\" stopper into dangerously large pieces within minutes, indicating a significant issue with the toy's durability. Furthermore, the customer points out a discrepancy between the product's advertised appearance (with an actual rope) and the received product (with a soft rubber \"rope\"), suggesting a problem with the product's design and materials. This review primarily focuses on the toy's inability to withstand moderate chewing, making the \"Daya Tahan & Kualitas\" (Durability & Quality) category the most dominant complaint.\n",
            "Ulasan ke-21914 selesai dianalisis. Kategori: Based on the customer review, the primary category of complaint for the \"Tug-a-jug\" dog toy is \"Daya Tahan & Kualitas\" (Durability & Quality). The customer explicitly states that the toy did not last \"15 seconds\" with their dog and that the piece inserting into the bottle was chewed off. This indicates a significant issue with the toy's durability and quality.\n",
            "Ulasan ke-21915 selesai dianalisis. Kategori: Based on the customer review, the primary category of complaint for the \"Tug-a-jug\" dog toy appears to be **Minat Anjing**. The customer mentions that their dogs lost interest in the toy quickly, suggesting that the toy did not hold their attention or provide sufficient entertainment, which falls under the \"Minat Anjing\" category.\n",
            "Ulasan ke-21916 selesai dianalisis. Kategori: Desain & Fungsi\n",
            "\n",
            "Rationale: The primary complaint in the review revolves around the toy's durability and functionality, specifically that it was easily destroyed by the dog in a short period. This falls under the 'Design & Function' category, as the toy failed to meet expectations in terms of being chew-resistant (as implied by the term \"indestructible plastic\") and providing long-lasting play value. The other categories do not seem to be the main focus of the customer's dissatisfaction.\n",
            "Ulasan ke-21917 selesai dianalisis. Kategori: Daya Tahan & Kualitas\n",
            "\n",
            "The primary complaint category in this customer review is \"Daya Tahan & Kualitas\" (Durability & Quality). The customer mentions that the Tug-a-jug toy broke into pieces the first day of use, with jagged edges left behind, indicating issues with the material and construction quality of the product.\n",
            "Ulasan ke-21918 selesai dianalisis. Kategori: Based on the customer review, the primary category of complaint for the \"Tug-a-jug\" dog toy is **Keamanan Produk (Safety of the Product)**. The concerns raised include the hard plastic jug causing potential injury and noise-related disturbances, as well as the frayed rope posing a choking hazard.\n",
            "Ulasan ke-21919 selesai dianalisis. Kategori: Based on the customer review, the primary category of complaint for the \"Tug-a-jug\" dog toy is **Desain & Fungsi**. The main issues are the strong rubber smell affecting the treat dispensing function and the dogs' aversion to the smell, which interferes with the toy's intended use. The other categories mentioned (Daya Tahan & Kualitas, Keamanan Produk, Minat Anjing, Harga) are not the primary focus of the customer's complaint in this review.\n",
            "Ulasan ke-21920 selesai dianalisis. Kategori: Based on the customer review, the primary category of complaint for the \"Tug-a-Jug\" dog toy is **Daya Tahan & Kualitas (Durability & Quality)**. The customer mentions that their 8-month-old puppy managed to break the \"challenge\" rope into six pieces within 10 minutes, indicating that the toy is not durable enough for a vigorous chewer.\n",
            "Ulasan ke-21921 selesai dianalisis. Kategori: Desain & Fungsi\n",
            "\n",
            "The main complaint in the customer review revolves around the design and functionality of the \"Tug-a-jug\" dog toy. The customer mentions that the rubber stopper gets wedged tightly, making it difficult for the treats to fall out as intended. The toy requires a specific positioning of the rubber stopper and the straw-like piece to dispense treats, which the dogs couldn't achieve with their mouth, tongue, or feet. This complexity led to frustration for the dogs, causing them to lose interest. Additionally, the customer reports that the rubber stopper and straw were chewed up by the dogs, rendering the toy useless. Therefore, the primary category of complaint is Desain & Fungsi (Design & Functionality).\n",
            "Ulasan ke-21922 selesai dianalisis. Kategori: The primary category of complaint in this review is \"Daya Tahan & Kualitas\" (Durability & Quality). The customer expresses disappointment with the toy's durability, as the rubber \"pull\" broke after only an hour of use despite their dog being an aggressive chewer. This indicates a failure of the product to meet expectations regarding its strength and longevity.\n",
            "Ulasan ke-21925 selesai dianalisis. Kategori: Desain & Fungsi\n",
            "\n",
            "The primary complaint in the customer review revolves around the design and functionality of the \"Tug-a-jug\" dog toy. The customer mentions that their dog, being quite intelligent, quickly figured out how to chew through the rubber rope to access the treats, rendering the toy ineffective. This indicates an issue with the toy's design, as it was too easily manipulated by the dog's problem-solving abilities. The customer also suggests that the fabric-type rope might have provided a more challenging experience for the dog, implying a potential design improvement. Therefore, the dominant category for this complaint is Desain & Fungsi (Design & Functionality).\n",
            "Ulasan ke-21927 selesai dianalisis. Kategori: Desain & Fungsi\n",
            "\n",
            "The primary complaint in the customer review revolves around the toy's design and functionality. The customer's large puppy was unable to use the toy as intended, leading to frustration and subsequent chewing of the rope. Additionally, the toy was deemed too noisy and damaging to wood floors, further indicating issues with its design and functionality.\n",
            "Ulasan ke-21928 selesai dianalisis. Kategori: Daya Tahan & Kualitas\n",
            "\n",
            "The main complaint category in this customer review is Daya Tahan & Kualitas (Durability & Quality). The customer mentions that despite being marketed for \"heavy chewers,\" the hard plastic container broke when their dog tried to access the remaining treats by unscrewing the bottom. This indicates a failure in the product's durability and quality, aligning with the chosen category.\n",
            "Ulasan ke-21930 selesai dianalisis. Kategori: Desain & Fungsi\n",
            "\n",
            "The main complaint category in this customer review of the \"Tug-a-jug\" dog toy is Design & Function. The customer mentions that although their lab mix rescue became interested in the toy after understanding how it worked, the dog was unable to extract all the food and, more critically, managed to remove the screw cap and consume all the kibble within 25 minutes while unsupervised, indicating a design flaw in the toy's functionality to keep the contents secure for extended periods without supervision.\n",
            "Ulasan ke-21932 selesai dianalisis. Kategori: Based on the customer review, the primary category of complaint for the \"Tug-a-jug\" dog toy is \"Daya Tahan & Kualitas\" (Durability & Quality). The customer mentioned that their 16-pound Whoodle was able to crack the bottle and rip apart the rope within four days, indicating issues with the toy's durability.\n",
            "Ulasan ke-21938 selesai dianalisis. Kategori: Based on the customer review, the primary category of complaint for the \"Tug-a-jug\" dog toy is Desain & Fungsi. The customer mentions that the toy didn't last a day due to the dog chewing through the rope and quickly emptying the treats. This indicates issues with the toy's durability and functionality.\n",
            "Ulasan ke-21943 selesai dianalisis. Kategori: Desain & Fungsi\n",
            "\n",
            "The primary complaint in the customer review revolves around the design and functionality of the \"Tug-a-jug\" toy. The customer mentions that their dog becomes frustrated because treats do not easily fall out, and the dog would prefer to unscrew the bottom if possible. This indicates issues with the toy's intended interaction and usability, fitting the \"Desain & Fungsi\" category.\n",
            "Ulasan ke-21946 selesai dianalisis. Kategori: Minat Anjing\n",
            "\n",
            "The primary complaint category in this customer review is \"Minat Anjing\" (Dog Interest). The customer expresses frustration that despite various attempts, their highly food-motivated dog remains uninterested in the \"Tug-a-jug\" toy, failing to associate it with food rewards.\n",
            "Ulasan ke-21949 selesai dianalisis. Kategori: Daya Tahan & Kualitas\n",
            "\n",
            "The primary complaint category in this customer review is \"Daya Tahan & Kualitas\" (Durability & Quality). The customer mentions that the toy, described as \"indestructible,\" broke within two days due to their 8-month-old blue heeler/husky puppy's rough play. This indicates a significant issue with the toy's durability and quality.\n",
            "Ulasan ke-21955 selesai dianalisis. Kategori: Based on the customer review, the primary category of complaint for the \"Tug-a-jug\" dog toy is \"Daya Tahan & Kualitas\" (Durability & Quality). The customer mentions that the toy was too fragile for their puppy, who managed to bite through the rubber \"rope\" in about 45 minutes. This indicates issues with the toy's durability and material quality.\n",
            "Ulasan ke-21959 selesai dianalisis. Kategori: Based on the customer review, the primary category of complaint for the \"Tug-a-jug\" dog toy appears to be **Daya Tahan & Kualitas (Durability & Quality)**. The issue raised is about a small piece of the bottom lid chipping off after only a few uses, which posed a potential safety hazard if ingested by the dog. This directly relates to the durability and quality of the product.\n",
            "Ulasan ke-21964 selesai dianalisis. Kategori: Daya Tahan & Kualitas\n",
            "\n",
            "The main complaint in the customer review revolves around the durability and quality of the \"Tug-a-jug\" dog toy. The customer mentions that despite only using the toy for about 30 minutes, their male Boxer managed to break off the plastic threaded bottom of the bottle by shaking and shattering it against a door frame. This indicates that the toy's material is too brittle and not robust enough to withstand regular use, pointing to issues with its durability and quality. The customer also notes that they didn't get to test the rubber ball component due to the toy's premature failure.\n",
            "Ulasan ke-21966 selesai dianalisis. Kategori: Daya Tahan & Kualitas\n",
            "\n",
            "The primary complaint category in this customer review is \"Daya Tahan & Kualitas\" (Durability & Quality). The customer mentions that the bottom of the Tug-a-jug toy keeps splitting on all three purchased units, despite gentle use on carpets without rough handling or contact with furniture. This indicates a significant durability issue with the product's construction and materials.\n",
            "Ulasan ke-21967 selesai dianalisis. Kategori: Based on the customer review, the primary category of complaint for the \"Tug-a-jug\" dog toy is \"Daya Tahan & Kualitas\" (Durability & Quality). The issue arises from the jug breaking and causing injury to the dog's tooth, indicating a problem with the toy's structural integrity and quality.\n",
            "Ulasan ke-21968 selesai dianalisis. Kategori: Based on the customer review, the primary category of complaint for the \"Tug-a-jug\" dog toy is \"Daya Tahan & Kualitas\" (Durability & Quality). The customer experienced issues with the toy breaking after only a week of use, indicating a problem with the material and construction quality.\n",
            "Ulasan ke-21971 selesai dianalisis. Kategori: Based on the customer review, the most dominant category of complaint for the \"Tug-a-jug\" dog toy is \"Daya Tahan & Kualitas\" (Durability & Quality). The customer mentioned that the toy cracked after only one day of use due to the puppy's active play, rendering it unusable.\n",
            "Ulasan ke-21985 selesai dianalisis. Kategori: Daya Tahan & Kualitas\n",
            "\n",
            "The main complaint in the review revolves around the durability and quality of the \"Tug-a-jug\" dog toy. The customer mentions that their 80-lb, 1-year-old Lab mix managed to chew through the rope connected to the bottle in just 10 minutes, indicating that the toy is not robust enough for strong chewers. This directly relates to the \"Daya Tahan & Kualitas\" (Durability & Quality) category, as the toy failed to withstand the dog's chewing behavior.\n",
            "Ulasan ke-21987 selesai dianalisis. Kategori: The primary category of complaint in the customer review is \"Daya Tahan & Kualitas\" (Durability & Quality). The customer mentions that the bottom part of the Tug-a-Jug, which is screwed on, is easy for their strong-chewing dog to chew off, posing a safety hazard due to the potential for swallowing sharp plastic pieces.\n",
            "Ulasan ke-21992 selesai dianalisis. Kategori: Desain & Fungsi\n",
            "\n",
            "The main complaint in the customer's review revolves around the difficulty in getting treats out of the Tug-a-jug toy, despite the design's intended functionality. The customer mentions that even with small kibble, it was extremely difficult to extract treats from the toy, causing frustration for the dog. This issue directly pertains to the toy's design and functionality, making \"Desain & Fungsi\" the most dominant category of complaint.\n",
            "Ulasan ke-21996 selesai dianalisis. Kategori: Daya Tahan & Kualitas\n",
            "\n",
            "The main complaint in the customer review revolves around the durability and quality of the \"Tug-a-jug\" dog toy. The customer mentions that their 20lb dog managed to break the plastic toy on the first use, despite not being an aggressive chewer. This indicates a failure in the product's durability and material quality, aligning with the \"Daya Tahan & Kualitas\" category.\n",
            "Ulasan ke-21998 selesai dianalisis. Kategori: Desain & Fungsi\n",
            "\n",
            "The main complaint in the customer review revolves around the difficulty in accessing the toy's interior to place treats and the challenge for the dogs to retrieve them. This falls under the category of \"Desain & Fungsi\" (Design & Function), specifically addressing issues with the toy's usability and functionality.\n",
            "Ulasan ke-21999 selesai dianalisis. Kategori: Based on the customer review, the primary category of complaint for the \"Tug-a-jug\" dog toy is **Desain & Fungsi**. The customer mentioned that the medium size received was too big for their Scottie, suggesting a size issue. Additionally, the dog showed little interest in the toy, indicating a potential problem with its appeal or functionality for the dog.\n",
            "Ulasan ke-22000 selesai dianalisis. Kategori: Based on the customer review, the primary category of complaint for the \"Tug-a-jug\" dog toy is **Daya Tahan & Kualitas (Durability & Quality)**. The customer expressed dissatisfaction with the toy's rope, which was chewed through by a 20 lb. terrier in approximately 30 minutes. This indicates a lack of durability in the product, aligning with the \"mudah hancur\" (easily broken) subcategory under Daya Tahan & Kualitas. Additionally, there's a concern about potential ingestion hazard, further emphasizing the durability issue. The price point of $10 is also mentioned, but this relates more to value for money rather than an inherent flaw in durability or quality.\n",
            "Ulasan ke-22008 selesai dianalisis. Kategori: The dominant category of complaint for the \"Tug-a-jug\" dog toy, based on the customer review, is **Desain & Fungsi (Design & Function)**. The main issues highlighted are:\n",
            "\n",
            "1. The toy's design flaw allowing the dog to retrieve treats by dropping it on the hardwood floor, rather than through intended interaction mechanisms.\n",
            "2. The plastic end cap, which breaks easily, posing a safety hazard with plastic shards scattering.\n",
            "\n",
            "Although the review also touches on the toy's durability and the dog's loss of interest after the malfunction, the primary concern revolves around the design and functionality issues. Therefore, the most fitting category for this complaint is **Desain & Fungsi (Design & Function)**.\n",
            "Ulasan ke-22009 selesai dianalisis. Kategori: The dominant category of complaint in the customer review is \"Desain & Fungsi\" (Design & Function). The main issue is that the rope, which holds the food, is easily chewed through by the dog, rendering the toy ineffective after only a few uses.\n",
            "Ulasan ke-22010 selesai dianalisis. Kategori: Desain & Fungsi\n",
            "\n",
            "The main complaint in the customer review revolves around the toy's design and functionality. The customer's 12-month-old Lab puppy was able to easily grasp the bottle, shake it out, and consume all the treats within a minute. This indicates that the toy's design did not effectively prevent the dog from accessing and consuming the treats too quickly, which is a concern under the \"Design & Function\" category.\n",
            "Ulasan ke-22012 selesai dianalisis. Kategori: Based on the customer review, the most dominant category of complaint for the \"Tug-a-jug\" dog toy is **Daya Tahan & Kualitas (Durability & Quality)**. The issues raised include:\n",
            "\n",
            "1. The treats do not dispense easily, causing discouragement for the dog.\n",
            "2. The toy is made of very hard plastic, posing a risk of injury to other animals or damage to surroundings.\n",
            "3. The toy cracked and broke easily, leaving sharp plastic edges that could be ingested by the dog.\n",
            "4. The durability of the toy is questioned, as the dog hardly played with it, and the customer is unsure how long it would last with frequent use.\n",
            "Ulasan ke-22017 selesai dianalisis. Kategori: Desain & Fungsi\n",
            "\n",
            "The primary complaint category in this customer review is \"Desain & Fungsi\". The issue highlighted is that the rope of the \"Tug-a-jug\" toy is easily chewed through by a 40 lb Spring Spaniel, compromising the toy's intended functionality for extended play and treat dispensing.\n",
            "Ulasan ke-22018 selesai dianalisis. Kategori: Based on the customer review, the primary category of complaint for the \"Tug-a-jug\" dog toy is \"Daya Tahan & Kualitas\" (Durability & Quality). The customer mentions that the toy was destroyed by their Pitbull in less than 10 minutes due to the dog chewing through the rope. Additionally, the design of the bottle, with deep sides making it difficult for treats to dispense easily, also contributes to this category. The customer expresses dissatisfaction with the toy's durability and suggests sticking to other brands like Kong and West Paw, which they find more reliable.\n",
            "Ulasan ke-22026 selesai dianalisis. Kategori: Based on the customer review, the primary category of complaint for the \"Tug-a-jug\" dog toy is **Minat Anjing**. The customer mentions that the toy makes their dog hyper and causes excessive barking, indicating that the toy does not hold the dog's interest in a positive or calming way.\n",
            "Ulasan ke-22031 selesai dianalisis. Kategori: Minat Anjing\n",
            "\n",
            "The primary concern in the customer review is that the dogs do not find the \"Tug-a-jug\" interesting and have shown little to no engagement with the toy. This falls under the \"Minat Anjing\" category.\n",
            "Ulasan ke-22039 selesai dianalisis. Kategori: Based on the customer review, the primary category of complaint for the \"Tug-a-jug\" dog toy appears to be **Minat Anjing**. The customer mentions that their Sheltie, despite being intelligent and food-motivated, shows no interest in the toy and waits for the owner to demonstrate how to retrieve the treats. The dog's lack of engagement with the toy suggests that the design or function of the toy does not effectively capture the dog's interest.\n",
            "Ulasan ke-22058 selesai dianalisis. Kategori: Daya Tahan & Kualitas\n",
            "\n",
            "The primary complaint category in this review is \"Daya Tahan & Kualitas\" (Durability & Quality). The customer's Rottweiler managed to break the bottom lid of the \"Tug-a-jug\" toy within a few minutes of play, indicating poor durability. The toy's plastic material is described as hard, which might contribute to its vulnerability when dropped or roughly handled by the dog. This directly relates to the toy's ability to withstand regular use by a powerful breed like a Rottweiler, highlighting issues with the material and design quality.\n",
            "Ulasan ke-22065 selesai dianalisis. Kategori: Based on the customer review, the primary category of complaint for the \"Tug-a-jug\" dog toy is \"Minat Anjing\". The customer mentions that neither of their dogs, including a beagle known for its appetite, shows interest in the toy for any significant duration. This indicates that the toy's design and function may not effectively engage the dogs, falling under the 'Minat Anjing' category.\n",
            "Ulasan ke-22066 selesai dianalisis. Kategori: Desain & Fungsi\n",
            "\n",
            "The primary complaint in the customer review revolves around the design and functionality of the \"Tug-a-jug\" toy for dogs. The customer mentions that, despite being a small dog, their pet finds the \"small\" sized bottle too large to interact with effectively, making it difficult for her to retrieve treats on her own. This issue pertains to the toy's design not being suitable for smaller dogs, as it hinders their ability to engage with and benefit from the product independently. Therefore, the dominant category of complaint is Desain & Fungsi (Design & Functionality).\n",
            "Ulasan ke-22067 selesai dianalisis. Kategori: Based on the customer review, the main category of complaint for the \"Tug-a-jug\" dog toy appears to be **Minat Anjing**. The greyhounds and foster dogs in the review showed no interest in the toy after initial interaction, suggesting that the toy's design or functionality does not effectively engage or appeal to the dogs.\n",
            "Ulasan ke-22081 selesai dianalisis. Kategori: Based on the customer review, the primary category of complaint for the \"Tug-a-jug\" dog toy is **Daya Tahan & Kualitas (Durability & Quality)**. The customer expressed concern about the dog being able to chew off pieces of the rubber \"rope,\" potentially leading to a choking hazard. This indicates an issue with the toy's durability and quality.\n",
            "Ulasan ke-22083 selesai dianalisis. Kategori: Daya Tahan & Kualitas\n",
            "\n",
            "The main complaint in the customer review revolves around the durability and quality of the \"Tug-a-jug\" dog toy. The customer mentions that the rope-like part of the toy, intended for tugging to dispense treats, is actually made of rubber instead, as depicted in the product picture. This rubber component was quickly chewed through by the customer's 45lb border collie mix. The disappointment stems from the product not matching its advertised description, highlighting a significant issue with the toy's durability and the quality of materials used.\n",
            "Ulasan ke-22118 selesai dianalisis. Kategori: Minat Anjing\n",
            "\n",
            "The primary complaint in the customer review is about the dog's lack of interest in the \"Tug-a-jug\" toy. The customer mentions that their cockapoo wouldn't play with it, despite various attempts to engage the dog. This indicates that the issue falls under the \"Minat Anjing\" category, as the dog does not seem to like the toy.\n",
            "Ulasan ke-22119 selesai dianalisis. Kategori: The dominant category of complaint in this review is \"Daya Tahan & Kualitas\" (Durability & Quality). The customer expresses dissatisfaction with the new version of the toy, where the rubber rope wore through quickly, making the toy nearly useless. The original version, however, lasted for half a year with heavy use, which the customer found satisfactory for its low price.\n",
            "Ulasan ke-22121 selesai dianalisis. Kategori: Based on the customer review, the primary category of complaint for the \"Tug-a-jug\" dog toy appears to be **Minat Anjing**. The customer mentions that their Lab puppy, who is food-driven and an aggressive chewer, shows no interest in the toy. The puppy walks by the toy filled with food and doesn't engage with it, despite being able to figure out how to get some food out and becoming frustrated in the process. This indicates that the toy's design and function do not align with the dog's preferences, making it unappealing to the animal.\n",
            "Ulasan ke-22122 selesai dianalisis. Kategori: Daya Tahan & Kualitas\n",
            "\n",
            "The primary complaint category in this customer review is Daya Tahan & Kualitas (Durability & Quality). The customer mentions that the plastic jug portion of the \"Tug-a-jug\" toy shattered, indicating a durability issue. This problem seems to be recurring, as it happened to several friends as well. The review suggests that despite the good idea behind the product, its construction quality is lacking.\n",
            "Ulasan ke-22123 selesai dianalisis. Kategori: Based on the customer review, the primary category of complaint for the \"Tug-a-jug\" dog toy is \"Daya Tahan & Kualitas\" (Durability & Quality). The customer mentioned that the toy was destroyed within 6 hours of first use, indicating issues with its durability.\n",
            "Ulasan ke-22124 selesai dianalisis. Kategori: Desain & Fungsi\n",
            "\n",
            "The main complaint in the customer review revolves around the functionality of the \"Tug-a-jug\" toy. The customer mentions that despite trying with small treats, their dog is unable to retrieve anything from the toy. The design of the Tug-a-jug, which involves pulling ropes to dispense treats, does not work effectively for the dog in question. This issue with the toy's intended function places it under the 'Desain & Fungsi' (Design & Function) category of complaints.\n",
            "Ulasan ke-22125 selesai dianalisis. Kategori: Desain & Fungsi\n",
            "\n",
            "The primary complaint in the customer review is related to the design and functionality of the Tug-a-Jug toy. Specifically, the customer mentions that the rope inside the toy becomes smelly after a month of use, even after being washed in the dishwasher. This issue persists despite multiple cleaning attempts, including soaking in bleach water, hand washing, and dishwashing. The customer also mentions that the rope does not fully dry out, leading to a persistent and worsening smell. This problem is directly related to the toy's design and functionality, making \"Desain & Fungsi\" the most dominant category of complaint.\n",
            "Ulasan ke-22126 selesai dianalisis. Kategori: Desain & Fungsi\n",
            "\n",
            "The primary complaint category in this customer review is \"Desain & Fungsi.\" The customer's 6-month-old black Labrador destroyed the toy, known as \"Tug-a-jug,\" in less than a week. Furthermore, when the container broke, it was described as very sharp, indicating a design flaw that compromised both the toy's durability and the safety of the dog.\n",
            "Ulasan ke-22127 selesai dianalisis. Kategori: Based on the customer review, the main category of complaint for the \"Tug-a-jug\" dog toy is \"Desain & Fungsi\" (Design & Function). The customer mentions issues such as the hard plastic making noise when dropped, difficulty in getting the cap back on, and the toy not effectively preventing the dog from retrieving treats, which suggests problems with the toy's design and functionality.\n",
            "Ulasan ke-22129 selesai dianalisis. Kategori: Daya Tahan & Kualitas\n",
            "\n",
            "The primary complaint in the customer review revolves around the durability and quality of the \"Tug-a-jug\" dog toy. The customer mentions that their 6-month-old lab puppy managed to break the plastic top within weeks by swinging it around as intended, rendering the toy unusable. The customer also expresses disappointment with the toy's longevity, considering it a $20 item, and raises safety concerns due to the presence of plastic shards around the puppy. These points clearly fall under the 'Daya Tahan & Kualitas' (Durability & Quality) category.\n",
            "Ulasan ke-22130 selesai dianalisis. Kategori: Based on the customer review, the primary category of complaint for the \"Tug-a-jug\" dog toy is \"Daya Tahan & Kualitas\" (Durability & Quality). The main issues highlighted are the toy's fragility, as it cracks when hit against the floor or walls, and the potential danger it poses to adult dogs who might ingest parts of the broken plastic while trying to retrieve the kibble.\n",
            "Ulasan ke-22131 selesai dianalisis. Kategori: Daya Tahan & Kualitas\n",
            "\n",
            "The main complaint category for the \"Tug-a-jug\" toy, based on the customer review, is Daya Tahan & Kualitas (Durability & Quality). The customer mentions that the toy was easily destroyed by their German Shepherd mix puppy within an hour, with the rope shredded and the knot coming off, allowing the treats to spill out. The toy's durability was insufficient to withstand even short periods of play, leading to its early disintegration.\n",
            "Ulasan ke-22132 selesai dianalisis. Kategori: Daya Tahan & Kualitas\n",
            "\n",
            "The main complaint in the customer review revolves around the durability and quality of the \"Tug-a-jug\" toy for dogs. The customer explicitly mentions that the toy broke after a minor impact, specifically cracking at the screw-in bottom, rendering it useless. This clearly falls under the 'Daya Tahan & Kualitas' (Durability & Quality) category, as the product failed to withstand a minor usage scenario, indicating a potential flaw in its design or material.\n",
            "Ulasan ke-22133 selesai dianalisis. Kategori: Based on the customer review, the primary category of complaint for the \"Tug-a-jug\" dog toy is \"Desain & Fungsi\" (Design & Function). The customer's Siberian Husky puppy, who is an active and heavy chewer, managed to unscrew the bottom of the jug and destroy it within a day. This indicates that the toy's design may not be durable enough to withstand aggressive chewing, which is a concern under the \"Desain & Fungsi\" category.\n",
            "Ulasan ke-22134 selesai dianalisis. Kategori: Daya Tahan & Kualitas\n",
            "\n",
            "The main complaint in the customer review revolves around the durability and quality of the \"Tug-a-jug\" dog toy. The customer mentions that their 8-month-old Shepherd, being active and rough, broke the toy by slamming it on the tile floor. The customer expresses disappointment as they believe the toy is made of a brittle plastic that is not hardy enough for a rough dog. This clearly falls under the category of 'Daya Tahan & Kualitas' (Durability & Quality).\n",
            "Ulasan ke-22135 selesai dianalisis. Kategori: Daya Tahan & Kualitas\n",
            "\n",
            "The primary complaint category in this customer review is \"Daya Tahan & Kualitas\" (Durability & Quality). The customer mentions that their Labrador chewed through the rope quickly, and despite attempts to use it with a ball, the plastic container developed a large crack from regular use, indicating poor durability and quality of the product.\n",
            "Ulasan ke-22137 selesai dianalisis. Kategori: Based on the customer review, the primary category of complaint for the \"Tug-a-jug\" dog toy appears to be **Daya Tahan & Kualitas (Durability & Quality)**. The main issue highlighted is that the toy was easily destroyed by the dogs in a short period, indicating a lack of durability.\n",
            "Ulasan ke-22138 selesai dianalisis. Kategori: Based on the customer review, the primary category of complaint for the \"Tug-a-Jug\" toy is **Desain & Fungsi**. The customer mentions that the toy is difficult for the dog to use as intended, causing frustration for the pet. Additionally, the noise generated by the toy is another functional issue raised. The other categories like Daya Tahan & Kualitas, Keamanan Produk, Minat Anjing, and Harga are not explicitly mentioned or implied in the review.\n",
            "Ulasan ke-22139 selesai dianalisis. Kategori: Minat Anjing\n",
            "\n",
            "The customer's review indicates that the dog is not interested in the \"Tug-a-jug\" toy, expressing disappointment and regret over the purchase. This clearly falls under the \"Minat Anjing\" category, as the main issue is the dog's lack of interest in the product.\n",
            "Ulasan ke-22141 selesai dianalisis. Kategori: Based on the customer review, the dominant category of complaint for the \"Tug-a-jug\" dog toy is \"Minat Anjing\". The customer mentions that their dog doesn't like the toy and barely goes near it, despite enjoying other toys. The review also suggests that the toy might only appeal to dogs with a strong food motivation, implying a lack of general interest or fun for most dogs.\n",
            "Ulasan ke-22142 selesai dianalisis. Kategori: Daya Tahan & Kualitas\n",
            "\n",
            "The primary complaint category in this review is Daya Tahan & Kualitas (Durability & Quality). The customer mentions that the toy tore apart quickly, with the rubber top coming apart in pieces and the plastic becoming jagged and sharp. Despite attempts to salvage the toy by removing damaged parts, it still deteriorated rapidly, rendering it unusable within 24 hours. This indicates significant issues with the toy's durability and quality.\n",
            "Ulasan ke-22144 selesai dianalisis. Kategori: Daya Tahan & Kualitas\n",
            "\n",
            "The primary complaint in the customer review revolves around the durability and quality of the \"Tug-a-jug\" dog toy. The customer explicitly states that the plastic rope \"cracked and broke within a couple of days,\" indicating a significant issue with the product's durability. This falls under the 'Daya Tahan & Kualitas' (Durability & Quality) category, as the toy failed to withstand minimal use, suggesting poor material quality or manufacturing defects.\n",
            "Ulasan ke-22145 selesai dianalisis. Kategori: Desain & Fungsi\n",
            "\n",
            "The main complaint in the customer review revolves around the dog's inability to coordinate using the \"Tug-a-jug\" toy effectively. The Airedale named Violet struggled with holding the jug in the correct position while jiggling the rope to dispense treats. This indicates a design flaw or usability issue, making \"Desain & Fungsi\" the dominant category of complaint. Additionally, the customer mentions Violet's confusion about opening the bottom of the jug, suggesting further design-related problems.\n",
            "Ulasan ke-22146 selesai dianalisis. Kategori: Based on the customer review, the most dominant category of complaint for the \"Tug-a-jug\" dog toy appears to be \"Desain & Fungsi\" (Design & Function). The customer mentions the hard plastic jar being distracting when slid against tile floors, and the unbearable noise it produces. Although there are hints of the dog losing interest (which could fall under \"Minat Anjing\" or \"Daya Tahan & Kualitas\"), the primary concern highlighted is the design and functionality aspects of the toy.\n",
            "Ulasan ke-22147 selesai dianalisis. Kategori: Based on the customer review, the primary category of complaint for the \"Tug-a-jug\" dog toy appears to be **Daya Tahan & Kualitas (Durability & Quality)**. The customer mentioned that their 7-month-old Labrador chewed through the rope, rendering the toy almost useless, which indicates a durability issue.\n",
            "Ulasan ke-22148 selesai dianalisis. Kategori: Daya Tahan & Kualitas\n",
            "\n",
            "The main complaint category for the \"Tug-a-jug\" dog toy, based on the customer review, is Daya Tahan & Kualitas (Durability & Quality). The customer mentions that despite their Labrador enjoying the toy, it only lasted a week due to the dog's aggressive chewing. The toy's components, including the rope and the bottle, were easily chewed through and ultimately led to the toy's destruction. This indicates a significant issue with the toy's durability and quality, making Daya Tahan & Kualitas the dominant complaint category.\n",
            "Ulasan ke-22150 selesai dianalisis. Kategori: Based on the customer review, the primary category of complaint for the \"Tug-a-jug\" dog toy appears to be \"Minat Anjing\". The customer mentions that their dogs, who usually enjoy destroying toys, showed no interest in this particular toy despite various attempts to entice them.\n",
            "Ulasan ke-22151 selesai dianalisis. Kategori: Based on the customer review, the primary category of complaint for the \"Tug-a-jug\" dog toy is **Daya Tahan & Kualitas (Durability & Quality)**. The customer mentioned that the toy broke after only half an hour of use, with the dog chewing off the end where it screws on, rendering it useless. This indicates a significant issue with the toy's durability and quality.\n",
            "Ulasan ke-22152 selesai dianalisis. Kategori: Based on the customer review, the primary category of complaint for the \"Tug-a-jug\" dog toy is **Daya Tahan & Kualitas (Durability & Quality)**. The customer explicitly mentions that the toy was easily destroyed by their lab puppy in under 10 minutes, indicating issues with the toy's durability and material quality.\n",
            "Ulasan ke-22154 selesai dianalisis. Kategori: Based on the customer review, the primary category of complaint for the \"Tug-a-jug\" dog toy is **Desain & Fungsi**. The issues highlighted are the persistent industrial plastic smell from the soft rubber parts, which suggests a design flaw or poor material choice, and the dog's lack of interest, indicating a potential failure in engaging the dog's play instincts. The concern about the rubber \"rope\" potentially being chewed through quickly also relates to the toy's functionality and durability.\n",
            "Ulasan ke-22155 selesai dianalisis. Kategori: Minat Anjing\n",
            "\n",
            "The primary concern in the customer's review is the dog's reaction to the toy, specifically that the dog is terrified of it, growls, and barks at it, and won't even approach it. This falls under the category of \"Minat Anjing\" (Dog's Interest).\n",
            "Ulasan ke-22157 selesai dianalisis. Kategori: Minat Anjing\n",
            "\n",
            "The primary complaint category in this customer review is \"Minat Anjing\". The customer was expecting their dogs to enjoy the \"Tug-a-jug\" toy, as indicated by their purchase decision based on positive reviews. However, neither of their dogs showed any interest in the toy.\n",
            "Ulasan ke-22158 selesai dianalisis. Kategori: Based on the customer review, the primary category of complaint for the \"Tug-a-jug\" dog toy is **Daya Tahan & Kualitas (Durability & Quality)**. The customer expected the toy to withstand chewing better, as their Puggle loves to chew on similar items, but the rope part was destroyed quickly. This indicates an issue with the toy's durability and quality.\n",
            "Ulasan ke-22159 selesai dianalisis. Kategori: Based on the customer review, the primary category of complaint for the \"Tug-a-jug\" dog toy would be **Desain & Fungsi**. The customer mentions that the toy is too heavy and bulky for a dog to play with comfortably, and there's a risk of it causing damage to furniture if swung around. Additionally, there's an implied concern about safety for small children due to the potential for being struck by the toy.\n",
            "Ulasan ke-22160 selesai dianalisis. Kategori: Based on the customer review, the primary category of complaint for the \"Tug-a-jug\" dog toy is \"Minat Anjing\" (Interest of Dogs). The customer mentions that none of their three dogs showed any interest in the toy, despite trying to entice them with treats. The other categories mentioned in the review, such as design, appearance, and personal discomfort from the toy, do not constitute the main complaint but rather additional points of dissatisfaction.\n",
            "Ulasan ke-22162 selesai dianalisis. Kategori: Daya Tahan & Kualitas\n",
            "\n",
            "The main complaint category for this customer review of the \"Tug-a-jug\" dog toy is \"Durability & Quality.\" The customer mentions that their 10-month-old Golden Doodle chewed through the rope within 30 minutes, indicating poor durability. Additionally, the hard plastic \"bottle\" part is described as loud when bounced, and the knot on the rope made it difficult to retrieve treats. The customer also expresses disappointment with the toy's quality for its price, further emphasizing the durability issue.\n",
            "Ulasan ke-22163 selesai dianalisis. Kategori: Minat Anjing\n",
            "\n",
            "The customer's review primarily revolves around their dog's lack of interest in the \"Tug-a-jug\" toy, despite the dog's usual enthusiasm for puzzle-like toys. This indicates that the main issue is related to the dog's interest or lack thereof in the product, fitting the \"Minat Anjing\" category.\n",
            "Ulasan ke-22165 selesai dianalisis. Kategori: Desain & Fungsi\n",
            "\n",
            "The main complaint in the customer review revolves around the design and functionality of the \"Tug-a-jug\" dog toy. The customer's Yorkie, despite being a small breed, managed to get frustrated and tear the rope of the toy in less than 36 hours while trying to access the treats. This indicates an issue with the toy's design, specifically its durability and ease of use for the dog. Therefore, the dominant category of complaint is Design & Fungsi.\n",
            "Ulasan ke-22166 selesai dianalisis. Kategori: Daya Tahan & Kualitas\n",
            "\n",
            "The main complaint in the customer review revolves around the durability and quality of the \"Tug-a-jug\" dog toy. The customer mentions that their dog enjoyed the toy for only 10 minutes before the bottom broke, and specifically points out that the part which screws into the bottom cracked. This indicates a failure in the product's structural integrity and material quality, aligning with the \"Daya Tahan & Kualitas\" (Durability & Quality) category.\n",
            "Ulasan ke-22167 selesai dianalisis. Kategori: Based on the customer review, the primary category of complaint for the \"Tug-a-jug\" dog toy appears to be \"Minat Anjing\". The customer mentions that their dog is uninterested and dislikes the toy, despite enjoying other puzzle and treat-dispensing toys. This indicates that the issue lies in the toy's appeal to the specific dog, rather than its durability, design, safety, or price.\n",
            "Ulasan ke-22171 selesai dianalisis. Kategori: Based on the customer review, the primary category of complaint for the \"Tug-a-jug\" dog toy is \"Daya Tahan & Kualitas\" (Durability & Quality). The customer's dog managed to chew through the knot and the rubber nozzle within 30 minutes to an hour of play, indicating that the toy's durability is poor.\n",
            "Ulasan ke-22177 selesai dianalisis. Kategori: Desain & Fungsi\n",
            "\n",
            "The primary complaint in the customer's review is related to the design and functionality of the \"Tug-a-jug\" toy. The customer's schnauzer-mix puppy was able to easily destroy the toy by exploiting a seam in the screw-on lid, which was initially thought to be virtually seamless and tight. This indicates that the toy's design did not effectively prevent the dog from accessing and destroying the food inside, making it a failure in terms of intended functionality and durability.\n",
            "Ulasan ke-22178 selesai dianalisis. Kategori: Based on the customer review, the primary category of complaint for the \"Tug-a-jug\" dog toy is **Minat Anjing**. The customer mentions that their 7-pound miniature poodle is terrified of the toy due to its noise and perceived movement, making it unappealing for timid dogs. The other categories, such as Daya Tahan & Kualitas, Desain & Fungsi, Keamanan Produk, and Harga, are not the main focus of the complaint in this review.\n",
            "Ulasan ke-22179 selesai dianalisis. Kategori: Desain & Fungsi\n",
            "\n",
            "The main complaint in the customer review revolves around the design and functionality of the \"Tug-a-jug\" toy for dogs. The customer mentions that the bottle neck is too narrow, allowing only crumbs to pass through, and that the rope size along with the storage in the bottle would work better if the opening were larger. This issue prevents the dog from easily retrieving treats, which falls under the \"Desain & Fungsi\" (Design & Function) category.\n",
            "Ulasan ke-22180 selesai dianalisis. Kategori: Based on the customer review, the primary category of complaint for the \"Tug-a-jug\" dog toy is \"Daya Tahan & Kualitas\" (Durability & Quality). The customer's golden doodle chewed through the rope within two days, indicating a durability issue with the product.\n",
            "Ulasan ke-22182 selesai dianalisis. Kategori: The dominant category of complaint for the \"Tug-a-jug\" dog toy, based on the customer review, is \"Desain & Fungsi\" (Design & Function). The customer expresses frustration with the thick rope that prevents treats from falling out and the bottle's shape that makes it difficult for treats to pass through, rendering the toy ineffective.\n",
            "Ulasan ke-22183 selesai dianalisis. Kategori: Desain & Fungsi\n",
            "\n",
            "The main complaint in the customer review revolves around the functionality of the \"Tug-a-jug\" toy for dogs. The customer mentions that the \"rope\" mechanism, which is intended to dispense treats, fails to work effectively after the first use. Instead of facilitating treat dispensing, it hinders the process, causing treats to become stuck inside the toy. This issue directly pertains to the design and functionality of the product, making \"Desain & Fungsi\" the dominant category of complaint.\n",
            "Ulasan ke-22184 selesai dianalisis. Kategori: Based on the customer review, the primary category of complaint for the \"Tug-a-jug\" dog toy is \"Desain & Fungsi\" (Design & Function). The customer mentions that their dog, despite being a small breed, struggles to retrieve treats from the toy. The treats do not come out easily, and even the customer finds it difficult to extract them without pulling hard on the rope. The design of the toy seems to be the main issue, as it fails to function as intended for the dog's size and strength. The customer also mentions that their dog prefers other treat dispenser toys, further emphasizing the problem with the \"Tug-a-jug\"'s design and functionality.\n",
            "Ulasan ke-22185 selesai dianalisis. Kategori: Desain & Fungsi\n",
            "\n",
            "The main complaint in the customer review is about the design and functionality of the \"Tug-a-jug\" dog toy. The customer mentions that the lid broke after a few uses while their chocolate lab was trying to get every last piece of kibble out. This indicates an issue with the toy's design, specifically the durability and protection of the lid. Therefore, the primary category of complaint is Desain & Fungsi (Design & Functionality).\n",
            "Ulasan ke-22186 selesai dianalisis. Kategori: Minat Anjing\n",
            "\n",
            "The primary complaint category in this customer review is \"Minat Anjing\" (Dog Interest). The customer mentions that their two Chihuahua dogs show no interest in the \"Tug-a-jug\" toy, despite trying various treats. This indicates that the toy does not capture the interest of smaller dog breeds, which is a concern related to a dog's attraction to the product.\n",
            "Ulasan ke-22187 selesai dianalisis. Kategori: Based on the customer review, the main category of complaint is \"Minat Anjing\" (Dog's Interest). The customer mentions that their Vizsla puppy finds the variety of functions and textures overwhelming and tends to ignore the toy. The noise it makes on hard floors is also noted, but this is more of an inconvenience rather than a safety or quality issue. Therefore, the dominant category of complaint is that the toy does not engage the dog's interest as intended.\n",
            "Ulasan ke-22188 selesai dianalisis. Kategori: Desain & Fungsi\n",
            "\n",
            "The main complaint in the customer review revolves around the functionality of the \"Tug-a-jug\" toy. The dog is unable to retrieve the treats or food, which indicates a problem with the toy's design and intended function. This is evident when the reviewer states, \"My dog can't seem to figure this one out. No matter how much he tugs on it, the food doesn't come out.\" This directly points to the \"Design & Fungsi\" category, as the toy fails to perform its intended purpose of dispensing treats when played with by the dog.\n",
            "Ulasan ke-22189 selesai dianalisis. Kategori: Daya Tahan & Kualitas\n",
            "\n",
            "The main complaint in the customer review revolves around the durability and quality of the \"Tug-a-jug\" dog toy. The customer mentions that despite their Jack Russell not dropping the toy from significant heights, the plastic at the top where the lid screws on still cracks easily. This issue has led to the need for replacements, with the third toy already being unusable. This pattern of the product breaking under normal use points to a significant problem with the toy's durability and material quality, making \"Daya Tahan & Kualitas\" the dominant category of complaint.\n",
            "Ulasan ke-22191 selesai dianalisis. Kategori: Daya Tahan & Kualitas\n",
            "\n",
            "The primary complaint category in this review is Daya Tahan & Kualitas (Durability & Quality). The customer mentions that the plastic of the toy is too brittle, causing the twist-off bottom part to break when the toy is dropped on hardwood floors. Despite the dog enjoying the toy, its poor durability led to two returns.\n",
            "Ulasan ke-22192 selesai dianalisis. Kategori: Minat Anjing\n",
            "\n",
            "The primary concern in the customer's review is that their dogs show no interest in the \"Tug-a-jug\" toy, despite their playful nature and love for treats. This falls under the \"Minat Anjing\" category, as the dogs simply do not like or engage with the toy.\n",
            "Ulasan ke-22193 selesai dianalisis. Kategori: Based on the customer review, the main issue is with the **Desain & Fungsi** category. The customer mentions that \"not a single doggie-bite-size treat could come out from where it supposed to,\" indicating a problem with the toy's design and functionality. The toy is not serving its intended purpose, which is to dispense treats for the dog to retrieve and earn rewards. The customer also mentions the dog drooling over the toy due to its scent, but this is more of an unintended side effect rather than a functional issue. Therefore, the primary category of complaint is **Desain & Fungsi**.\n",
            "Ulasan ke-22195 selesai dianalisis. Kategori: Based on the customer review, the primary category of complaint for the \"Tug-a-jug\" dog toy is \"Minat Anjing\". The customer mentions that their Shepherd, who loves to chew, shows no interest in playing with the toy and quickly became bored with it.\n",
            "Ulasan ke-22196 selesai dianalisis. Kategori: Desain & Fungsi\n",
            "\n",
            "The main complaint in the customer review revolves around the dog's inability to retrieve treats from the \"Tug-a-jug\" toy, despite it being the extra small size. This issue pertains to the toy's design and functionality, making \"Desain & Fungsi\" the most dominant category of concern.\n",
            "Ulasan ke-22197 selesai dianalisis. Kategori: Daya Tahan & Kualitas\n",
            "\n",
            "The main complaint in the customer review revolves around the durability and quality of the \"Tug-a-jug\" dog toy. The customer's Samoyed, while playing with the toy, caused the bottle to break upon impact with the ceramic floor. This indicates issues with the toy's durability and its inability to withstand chewing, leading to damage. Therefore, the primary category of complaint is Daya Tahan & Kualitas (Durability & Quality).\n",
            "Ulasan ke-22198 selesai dianalisis. Kategori: Based on the customer review, the primary category of complaint for the \"Tug-a-jug\" dog toy appears to be **Desain & Fungsi**. The customer mentions that the toy is \"HUGE\" and \"overkill\" for their 13-pound Shih Tzu, indicating issues with the toy's size and suitability for its intended purpose. They also speculate about the noise the hard plastic might make on tile floors, suggesting concerns about functionality and potential disturbance.\n",
            "Ulasan ke-22199 selesai dianalisis. Kategori: Daya Tahan & Kualitas\n",
            "\n",
            "The main complaint in the customer review revolves around the durability and quality of the \"Tug-a-jug\" dog toy. The customer mentions that the threads broke off the bottle, rendering the product useless. This issue falls under the category of 'Daya Tahan & Kualitas' (Durability & Quality), as the toy failed prematurely due to poor construction or material.\n",
            "Ulasan ke-22201 selesai dianalisis. Kategori: Based on the customer review, the primary category of complaint for the \"Tug-a-jug\" dog toy is \"Daya Tahan & Kualitas\" (Durability & Quality). The customer mentioned that the toy broke into pieces within a week, despite supergluing it back together, indicating issues with the toy's durability and construction quality.\n",
            "Ulasan ke-22202 selesai dianalisis. Kategori: Based on the customer review, the primary category of complaint for the \"Tug-a-jug\" dog toy is \"Daya Tahan & Kualitas\" (Durability & Quality). The customer mentions that their Labrador quickly destroyed the rope and ate the plastic stopper, indicating issues with the toy's durability. Additionally, the noise produced when the dog repeatedly drops the bottle to get treats out suggests a design flaw contributing to the durability concern.\n",
            "Ulasan ke-22203 selesai dianalisis. Kategori: The dominant category of complaint in the customer review is \"Daya Tahan & Kualitas\" (Durability & Quality). The customer mentions that the plastic top of the Tug-a-jug is not durable, despite the company's claim that it's made of ballistic plastic. The customer has gone through multiple jugs, indicating a recurring issue with durability.\n",
            "Ulasan ke-22204 selesai dianalisis. Kategori: Daya Tahan & Kualitas\n",
            "\n",
            "The primary complaint in the customer review revolves around the durability and quality of the \"Tug-a-jug\" dog toy. The customer mentions that the toy broke within a week of use, despite being advertised as being made of durable plastic. The plastic lid on the bottom cracked and broke off, posing a potential hazard due to the sharp broken pieces. This clearly falls under the 'Daya Tahan & Kualitas' (Durability & Quality) category, as the toy failed to meet expectations regarding its strength and longevity.\n",
            "Ulasan ke-22205 selesai dianalisis. Kategori: Based on the customer review, the primary category of complaint for the \"Tug-a-jug\" dog toy appears to be **Daya Tahan & Kualitas (Durability & Quality)**. The main issues highlighted are:\n",
            "\n",
            "1. The rope was destroyed almost immediately by an 8-month-old yellow lab.\n",
            "2. The dog chewed through the screw-off part and the bottle, indicating a lack of durability in those components as well.\n",
            "\n",
            "The review suggests that the toy is not suitable for heavy chewers like Labs, pointing to a durability issue rather than a design, safety, price, or pet interest concern.\n",
            "Ulasan ke-22206 selesai dianalisis. Kategori: Minat Anjing\n",
            "\n",
            "The primary complaint category in this customer review is \"Minat Anjing\" (Dog Interest). The customer bought the \"Tug-a-jug\" toy for their Labrador, expecting it to be an engaging and challenging plaything. However, their Labrador showed no interest in the toy, despite placing treats inside to entice them. The customer also attempted to introduce the toy to other Labs, but they too showed no interest. This indicates that the toy failed to capture the dogs' interest, which falls under the \"Minat Anjing\" category.\n",
            "Ulasan ke-22208 selesai dianalisis. Kategori: Based on the customer's review, the primary category of complaint for the \"Tug-a-jug\" dog toy is **Desain & Fungsi (Design & Function)**. The customer expresses dissatisfaction with the toy's intended function, as their dog is not engaging with the rope-pulling aspect to dispense treats. Instead, the dog focuses on sniffing the \"scent holes\" and attempting to access treats directly from the bottle's neck. The customer suggests a redesign, specifically making the outside knot smaller to allow the rope to pass through the back of the bottle, which indicates a problem with the toy's design and functionality.\n",
            "Ulasan ke-22209 selesai dianalisis. Kategori: Based on the customer review, the primary category of complaint for the \"Tug-a-jug\" dog toy is **Daya Tahan & Kualitas (Durability & Quality)**. The customer mentions that the rope is chewed in half and soaking wet within hours, indicating poor durability. The knot is also described as too big and frayed, which affects the functionality of the toy. The size of the treats not matching the bottle size is a secondary concern related to design and function, but the main issue revolves around the toy's durability.\n",
            "Ulasan ke-22210 selesai dianalisis. Kategori: Daya Tahan & Kualitas\n",
            "\n",
            "The main complaint in the customer review revolves around the durability and quality of the \"Tug-a-jug\" dog toy. The customer mentions that the plastic bottle cracked in minutes after their puppy figured out that tossing the bottle would shake loose the treats. Additionally, the rope was chewed apart by the dog in just one day. This indicates that the toy's material and construction are not robust enough to withstand regular use and chewing, making \"Daya Tahan & Kualitas\" the dominant category of complaint.\n",
            "Ulasan ke-22211 selesai dianalisis. Kategori: Based on the customer review, the primary category of complaint for the \"Tug-a-jug\" dog toy is **Minat Anjing**. The customer mentions that both their Akita mix pup and adult dog, as well as a 4-month-old Lab pup, show no interest in the toy. The design is also criticized as poor, which falls under this category as it impacts the dog's engagement with the product.\n",
            "Ulasan ke-22212 selesai dianalisis. Kategori: Based on the customer review, the primary category of complaint for the \"Tug-a-jug\" dog toy appears to be **Desain & Fungsi**. The customer mentions that their puppy chewed off the knob of the rope insert, indicating a design flaw or weak material. Additionally, the toy failed to engage the food-motivated dog, suggesting it doesn't serve its intended purpose effectively.\n",
            "Ulasan ke-22214 selesai dianalisis. Kategori: Minat Anjing\n",
            "\n",
            "The customer's review indicates that the dog shows no interest in the toy, despite various attempts to engage the dog with different types of treats and food. This suggests that the primary issue is related to the dog's lack of interest or engagement with the product, falling under the \"Minat Anjing\" category.\n",
            "Ulasan ke-22216 selesai dianalisis. Kategori: Desain & Fungsi\n",
            "\n",
            "The main complaint in the customer review revolves around the design and functionality of the \"Tug-a-jug\" dog toy. The customer's Labrador Retriever, despite needing a brain-stimulating toy, was more interested in chewing the rope than using it as intended to dispense treats. Removing the rope made the toy easier to use for getting food, but the dog still preferred chewing to solve the puzzle. Additionally, the customer mentioned that the toy is quite noisy when it hits surfaces. Therefore, the primary category of complaint is Design & Fungsi, focusing on usability and intended purpose.\n",
            "Ulasan ke-22217 selesai dianalisis. Kategori: Desain & Fungsi\n",
            "\n",
            "The main complaint in the customer review revolves around the functionality of the \"Tug-a-jug\" toy. The customer mentions that their dog understands the concept quickly but struggles with retrieving treats from the jar due to the rope obstructing the hole. This issue pertains to the toy's design and usability, making \"Desain & Fungsi\" the dominant category of concern in this review.\n",
            "Ulasan ke-22219 selesai dianalisis. Kategori: Based on the customer review, the primary category of complaint for the \"Tug-a-jug\" dog toy appears to be **Minat Anjing**. The customer mentions that their Japanese Spitz is not interested in working for food from the toy, suggesting the dog lacks engagement or interest with the product.\n",
            "Ulasan ke-22221 selesai dianalisis. Kategori: Minat Anjing\n",
            "\n",
            "The primary complaint category in this customer review is \"Minat Anjing\" (Dog Interest). The customer mentions that their two dogs are not interested in the \"Tug-a-jug\" toy, despite generally liking other toys. The toy has been largely ignored since its purchase. Although the review also touches on durability, the main issue highlighted is the lack of interest from the dogs.\n",
            "Ulasan ke-22222 selesai dianalisis. Kategori: Daya Tahan & Kualitas\n",
            "\n",
            "The main complaint category from the customer review is Daya Tahan & Kualitas (Durability & Quality). The customer mentions that both versions of the toy, with the rope and the rubberized \"rope,\" were quickly destroyed by the dog, rendering the toy useless in a short amount of time. This indicates poor durability and quality of the product.\n",
            "Ulasan ke-22223 selesai dianalisis. Kategori: Based on the customer review, the most dominant category of complaint for the \"Tug-a-jug\" dog toy is \"Daya Tahan & Kualitas\" (Durability & Quality). The customer mentioned that the plastic insert broke off after a week of use, indicating a lack of durability. The noise the toy makes when dropped is also a minor concern related to this category.\n",
            "Ulasan ke-22224 selesai dianalisis. Kategori: Based on the customer review, the primary category of complaint for the \"Tug-a-jug\" dog toy appears to be 'Daya Tahan & Kualitas' (Durability & Quality). The customer mentioned that their puppy chewed through the rubber tug pull within a few minutes, indicating a durability issue. The review also implies the toy is not worth the money, suggesting dissatisfaction with its quality.\n",
            "Ulasan ke-22225 selesai dianalisis. Kategori: Daya Tahan & Kualitas\n",
            "\n",
            "The customer's review indicates that the \"Tug-a-jug\" toy has a short durability, lasting only an hour or so, as suggested by images shared by other customers. This points to the 'Daya Tahan & Kualitas' (Durability & Quality) category as the primary concern.\n",
            "Ulasan ke-22226 selesai dianalisis. Kategori: The dominant category of complaint for the \"Tug-a-jug\" dog toy, based on the customer review, is \"Daya Tahan & Kualitas\" (Durability & Quality). The customer mentions that the toy is not durable, as their dog managed to unscrew it, eat the treats inside, and chew through the threading, rendering it unusable.\n",
            "Ulasan ke-22227 selesai dianalisis. Kategori: Based on the customer review, the primary category of complaint for the \"Tug-a-jug\" dog toy would be **Minat Anjing**. The dogs in this case do not show interest in the toy despite being able to access the treats inside.\n",
            "Ulasan ke-22228 selesai dianalisis. Kategori: Based on the customer review, the primary category of complaint for the \"Tug-a-jug\" dog toy is \"Minat Anjing\" (Interest of the Dog). The dogs, despite being high energy and playful, show little to no interest in the toy. They haven't engaged with it for more than a few minutes, unlike other toys they enjoy. The customer also mentions keeping it for a year in case a foster dog might like it, but no success. This indicates that the toy's appeal to the dogs is the main issue.\n",
            "Ulasan ke-22229 selesai dianalisis. Kategori: Based on the customer review, the primary category of complaint for the \"Tug-a-jug\" dog toy appears to be **Desain & Fungsi**. The customer expresses concern about the dog not understanding how to use the toy, and the hard plastic material potentially causing harm if shaken vigorously or if it flies out of the dog's mouth. The other categories like Daya Tahan & Kualitas, Keamanan Produk, Minat Anjing, and Harga are not directly mentioned or implied in the review.\n",
            "Ulasan ke-22230 selesai dianalisis. Kategori: Based on the customer review, the primary category of complaint for the \"Tug-a-jug\" dog toy appears to be **Minat Anjing**. The customer expected the toy to engage their 100 lb Labrador for a longer period, but the dog showed interest for only about 5 minutes before losing interest.\n",
            "Ulasan ke-22231 selesai dianalisis. Kategori: Daya Tahan & Kualitas\n",
            "\n",
            "The primary concern in the customer's review is the durability and quality of the \"Tug-a-jug\" dog toy. The customer mentions that although their dog initially enjoyed the toy, it cracked within an hour of play, suggesting issues with the material and construction. This falls under the 'Daya Tahan & Kualitas' (Durability & Quality) category.\n",
            "Ulasan ke-22232 selesai dianalisis. Kategori: The primary category of complaint is \"Desain & Fungsi\". The customer is unhappy because the product received does not match the picture shown, specifically regarding the type of rope used. The customer's dog has a habit of tearing apart ropes, and they had previously owned a version with a plastic rope which was more durable. The customer assumed they would receive the same version based on the product image, but the received product has a different, less durable rope. This discrepancy in design and functionality has led to the customer's dissatisfaction.\n",
            "Ulasan ke-22233 selesai dianalisis. Kategori: Desain & Fungsi\n",
            "\n",
            "The customer's main complaint revolves around the toy's design and functionality. The dog genius struggles to figure out the puzzle, and even when filled, it's difficult for her to retrieve treats due to the design. The pull rope sinks to the bottom, making it hard to retrieve, especially for a smaller dog. Additionally, the toy doesn't accommodate multiple dogs playing together, as the pull rope becomes ineffective when both dogs try to engage with it. The medium chewer also destroyed the rubber pull rope, indicating a durability issue. Therefore, the primary category of complaint is Desain & Fungsi (Design & Functionality).\n",
            "Ulasan ke-22234 selesai dianalisis. Kategori: Daya Tahan & Kualitas\n",
            "\n",
            "The primary complaint category in this review is Daya Tahan & Kualitas. The customer experienced a failure in the product's durability, as the bottom of the \"Tug-a-jug\" shattered when it was merely filled and dropped from a standing position on a hard floor, preventing the dog from even interacting with it. This indicates a significant issue with the product's construction and material quality.\n",
            "Ulasan ke-22235 selesai dianalisis. Kategori: Desain & Fungsi\n",
            "\n",
            "The main complaint in the customer review revolves around the design and functionality of the \"Tug-a-jug\" toy. The customer expresses disappointment as their Cojack was unable to retrieve treats from the toy's top, which was intended to be a stimulating feature. The customer explicitly requests a design fix, indicating that the primary issue lies within the toy's usability and intended function. Therefore, the dominant category of complaint is Desain & Fungsi (Design & Function).\n",
            "Ulasan ke-22236 selesai dianalisis. Kategori: Based on the customer review, the primary category of complaint for the \"Tug-a-jug\" dog toy is **Desain & Fungsi**. The issues mentioned include the strong plastic smell deterring the dog from interacting with the toy, difficulty in understanding the toy's function (kibble release), a stiff rope making it hard for the dog to grip, and an overall unusability due to BPA in the bottle and cap, and the inflexible rope. While there are elements of material quality (plastic smell, BPA), the main focus of the complaint is on the toy's intended function and usability.\n",
            "Ulasan ke-22238 selesai dianalisis. Kategori: Desain & Fungsi\n",
            "\n",
            "The main complaint in the customer review revolves around the design and functionality of the \"Tug-a-jug\" dog toy. The customer received a version with a rope instead of the rubber 'rope' as advertised, which led to the toy becoming useless within 10 minutes when the dog frayed the rope. The suggested workaround of using different sized balls does not address the core issue of the toy's design flaw. Therefore, the primary category of complaint is Desain & Fungsi (Design & Functionality).\n",
            "Ulasan ke-22239 selesai dianalisis. Kategori: Desain & Fungsi\n",
            "\n",
            "The customer's main complaint revolves around the toy's design and functionality. The dog quickly figured out how to extract the treats by chewing through the rope, indicating a flaw in the toy's design that makes it easy to destroy. This issue falls under the category of Design & Fungsi, as the toy does not fulfill its intended purpose of providing long-lasting entertainment for the dog.\n",
            "Ulasan ke-22240 selesai dianalisis. Kategori: Minat Anjing\n",
            "\n",
            "The primary complaint category from the customer review is \"Minat Anjing\" (Interest of the Dog). The customer mentions that their Min-Pin breed dog shows no interest in the \"Tug-a-jug\" toy, despite typically being receptive to treat-dispensing toys. This indicates that the dog's lack of engagement with the product is the main concern raised in the review.\n",
            "Ulasan ke-22241 selesai dianalisis. Kategori: Based on the customer review, the primary category of complaint for the \"Tug-a-jug\" dog toy appears to be **Daya Tahan & Kualitas (Durability & Quality)**. The customer mentions that the toy \"did not last,\" specifically noting that their Boxer dog chewed through the rope attached to the jar. This indicates an issue with the toy's durability and construction quality.\n",
            "Ulasan ke-22242 selesai dianalisis. Kategori: Based on the customer review, the primary category of complaint for the \"Tug-a-jug\" dog toy is **Keamanan Produk** (Product Safety). The customer expresses concern about the toy's durability, as their dog managed to destroy and swallow a part of it within minutes, leading to potential health risks and aggression issues. The review also touches on the toy's effectiveness as a distraction and its value for money, but the main focus is on the safety concerns.\n",
            "Ulasan ke-22243 selesai dianalisis. Kategori: Minat Anjing\n",
            "\n",
            "Rationale: The primary complaint in the customer review pertains to the dog's lack of interest in the \"Tug-a-jug\" toy. The customer explicitly states that their dog \"took one look at it, played with it for a few minutes, and never looked at it again,\" indicating the toy failed to capture and maintain the dog's attention. This clearly falls under the \"Minat Anjing\" (Dog Interest) category, as the toy did not interest the dog at all, making it a disappointing purchase for the customer. Other categories like Daya Tahan & Kualitas, Desain & Fungsi, Keamanan Produk, and Harga are not mentioned or implied in the review.\n",
            "Ulasan ke-22257 selesai dianalisis. Kategori: Daya Tahan & Kualitas\n",
            "\n",
            "The primary complaint category for the \"Tug-a-jug\" dog toy, based on the customer review, is Daya Tahan & Kualitas (Durability & Quality). The customer mentions that the brittle screw-on bottom broke off after only two days of use, rendering the toy useless and potentially dangerous. This issue directly relates to the product's durability and quality.\n",
            "Ulasan ke-22258 selesai dianalisis. Kategori: The primary category of complaint is \"Daya Tahan & Kualitas\" (Durability & Quality). The customer expresses disappointment as the toy, despite being marketed as 'practically break-proof', was easily destroyed by their aggressive chewing Beauceron within three uses. This indicates a failure in the product's durability and quality.\n",
            "Ulasan ke-22261 selesai dianalisis. Kategori: Based on the customer review, the primary category of complaint for the \"Tug-a-jug\" toy is \"Daya Tahan & Kualitas\" (Durability & Quality). The customer mentioned that the end cap snapped after only four days of use, rendering the toy ineffective as a treat-dispensing toy. This indicates a durability issue with the product.\n",
            "Ulasan ke-22262 selesai dianalisis. Kategori: Daya Tahan & Kualitas\n",
            "\n",
            "The primary complaint category for the \"Tug-a-Jug\" dog toy, based on the customer review, is Daya Tahan & Kualitas (Durability & Quality). The customer mentions that both toys had issues with the rope being chewed through and the bottom part of the second toy cracking and shattering after only a week of use. The customer also expresses dissatisfaction with the product quality, stating that the shards from the broken toy were sharp and could potentially cause harm if ingested by the dog.\n",
            "\n",
            "Analisis selesai! Hasilnya sudah ditambahkan ke dataframe.\n",
            "                                                    Text  \\\n",
            "21738  The idea is basically a good one, however, my ...   \n",
            "21746  <span class=\"tiny\"> Length:: 0:19 Mins<br /><b...   \n",
            "21747  My dog chewed the rope in half first, then che...   \n",
            "21748  Our dog chewed through ate the vanilla infused...   \n",
            "21782  Dogs loved it but, 3 out of 3 I purchased had ...   \n",
            "\n",
            "                                                Kategori  \n",
            "21738  Desain & Fungsi\\n\\nThe main complaint in the c...  \n",
            "21746  Based on the customer review, the primary cate...  \n",
            "21747  Based on the customer review, the primary cate...  \n",
            "21748  Keamanan Produk\\n\\nThe primary concern in the ...  \n",
            "21782  Daya Tahan & Kualitas\\n\\nThe main complaint ca...  \n"
          ]
        }
      ]
    },
    {
      "cell_type": "code",
      "source": [
        "# Hitung jumlah ulasan untuk setiap kategori\n",
        "jumlah_per_kategori = df_negatif['Kategori'].value_counts()\n",
        "\n",
        "# Ambil 2 kategori teratas\n",
        "top_2_keluhan = jumlah_per_kategori.head(2)\n",
        "\n",
        "print(\"--- Top2 Keluhan Utama Pelanggan ---\")\n",
        "print(top_2_keluhan)"
      ],
      "metadata": {
        "colab": {
          "base_uri": "https://localhost:8080/"
        },
        "id": "9YKGgSPHz-mf",
        "outputId": "2748119e-1324-48bd-bf23-9aebecc18d3a",
        "collapsed": true
      },
      "execution_count": 15,
      "outputs": [
        {
          "output_type": "stream",
          "name": "stdout",
          "text": [
            "--- Top2 Keluhan Utama Pelanggan ---\n",
            "Kategori\n",
            "Desain & Fungsi\\n\\nThe main complaint in the customer review revolves around the usability and functionality of the Tug-a-Jug toy. The customer mentions that their 20-lb Papillon dog struggled to understand how to use the toy, despite being highly motivated by food. This indicates an issue with the toy's design making it difficult for the dog to engage with it independently. The customer also notes that they eventually had to assist their dog, implying that the toy's intended function was not effectively met. Therefore, the dominant category for this complaint is Desain & Fungsi (Design & Function).    1\n",
            "Based on the customer review, the primary category of complaint for the \"Tug-a-jug\" dog toy is \"Daya Tahan & Kualitas\" (Durability & Quality). The customer mentions that their dog managed to destroy the toy within 4 hours, the rubber rope didn't withstand chewing, and the design caused the jug to be bulky and easily knocked around by the dog.                                                                                                                                                                                                                                                                          1\n",
            "Name: count, dtype: int64\n"
          ]
        }
      ]
    },
    {
      "cell_type": "code",
      "source": [
        "# 1. Siapkan ringkasan temuan untuk diberikan kepada AI\n",
        "\n",
        "ringkasan_temuan = \"\"\n",
        "for kategori, jumlah in top_2_keluhan.items():\n",
        "    ringkasan_temuan += f\"- {kategori} (disebutkan dalam {jumlah} ulasan negatif)\\n\"\n",
        "\n",
        "# 2. Buat fungsi prompt untuk meminta rekomendasi\n",
        "def create_recommendation_prompt(product_name, summary):\n",
        "    prompt = f\"\"\"\n",
        "    Tugas: Anda adalah seorang Product Manager Analyst yang berpengalaman.\n",
        "    Produk yang sedang dianalisis adalah mainan anjing bernama \"{product_name}\".\n",
        "\n",
        "    Berdasarkan analisis sentimen terhadap ulasan negatif pelanggan, ditemukan 2 masalah utama sebagai berikut:\n",
        "    {summary}\n",
        "\n",
        "    Berdasarkan 2 masalah utama tersebut, berikan rekomendasi yang konkret dan bisa ditindaklanjuti (actionable) untuk tim pengembangan produk.\n",
        "    Sajikan dalam format poin-poin untuk setiap kategori masalah.\n",
        "\n",
        "    Contoh Jawaban:\n",
        "    Rekomendasi untuk Tim Produk:\n",
        "    1.  **Terkait [Kategori Masalah 1]:**\n",
        "        * [Rekomendasi spesifik 1A]\n",
        "        * [Rekomendasi spesifik 1B]\n",
        "    2.  **Terkait [Kategori Masalah 2]:**\n",
        "        * [Rekomendasi spesifik 2A]\n",
        "\n",
        "    Rekomendasi Anda:\n",
        "    \"\"\"\n",
        "    return prompt\n",
        "\n",
        "# 3. Panggil AI untuk mendapatkan rekomendasi strategis\n",
        "\n",
        "nama_produk = \"Tug-a-jug\"\n",
        "prompt_rekomendasi = create_recommendation_prompt(nama_produk, ringkasan_temuan)\n",
        "\n",
        "rekomendasi_final = llm.invoke(prompt_rekomendasi)\n",
        "\n",
        "# 4. Tampilkan hasil akhir\n",
        "print(\"\\n--- Rekomendasi Strategis dari AI untuk Tim Produk ---\")\n",
        "print(rekomendasi_final.strip())"
      ],
      "metadata": {
        "colab": {
          "base_uri": "https://localhost:8080/"
        },
        "collapsed": true,
        "id": "1gsMQzKaHjPa",
        "outputId": "853074f7-604c-47c7-8451-2f99349d8a68"
      },
      "execution_count": 16,
      "outputs": [
        {
          "output_type": "stream",
          "name": "stdout",
          "text": [
            "\n",
            "--- Rekomendasi Strategis dari AI untuk Tim Produk ---\n",
            "1. **Terkait Desain & Fungsi:**\n",
            "   - *1A* Conduct user testing with a diverse range of dog breeds and sizes to identify any design flaws that hinder independent use.\n",
            "   - *1B* Simplify the toy's design to make it more intuitive for dogs to understand and engage with, possibly by adding visual or tactile cues.\n",
            "\n",
            "2. **Terkait Daya Tahan & Kualitas:**\n",
            "   - *2A* Source higher-quality, more durable materials for the rubber rope and jug component to withstand aggressive chewing.\n",
            "   - *2B* Redesign the jug to be more compact and stable, reducing the likelihood of it being knocked over during play.\n",
            "\n",
            "These actionable recommendations aim to address the main issues of usability, functionality, durability, and quality, ultimately improving the Tug-a-Jug dog toy and enhancing customer satisfaction.\n"
          ]
        }
      ]
    },
    {
      "cell_type": "code",
      "source": [
        "# membersihkan kategori\n",
        "def bersihkan_kategori(jawaban_ai):\n",
        "\n",
        "    kategori_valid = [\"Daya Tahan & Kualitas\", \"Desain & Fungsi\", \"Keamanan Produk\", \"Minat Anjing\", \"Harga\"]\n",
        "\n",
        "    for kategori in kategori_valid:\n",
        "\n",
        "        if kategori in jawaban_ai:\n",
        "            return kategori\n",
        "\n",
        "    return \"Tidak Terkategori\""
      ],
      "metadata": {
        "id": "bqYypFCyQvnE"
      },
      "execution_count": 17,
      "outputs": []
    },
    {
      "cell_type": "code",
      "source": [
        "\n",
        "df_negatif['Kategori_Bersih'] = df_negatif['Kategori'].apply(bersihkan_kategori)\n",
        "\n",
        "print(\"--- Hasil Setelah Pembersihan ---\")\n",
        "print(df_negatif['Kategori_Bersih'].value_counts())"
      ],
      "metadata": {
        "colab": {
          "base_uri": "https://localhost:8080/"
        },
        "collapsed": true,
        "id": "GMN4Z2rVQyRr",
        "outputId": "537910e6-ee62-4727-c1c8-42f1aa6e39cc"
      },
      "execution_count": 18,
      "outputs": [
        {
          "output_type": "stream",
          "name": "stdout",
          "text": [
            "--- Hasil Setelah Pembersihan ---\n",
            "Kategori_Bersih\n",
            "Daya Tahan & Kualitas    84\n",
            "Desain & Fungsi          48\n",
            "Minat Anjing             32\n",
            "Keamanan Produk           3\n",
            "Name: count, dtype: int64\n"
          ]
        }
      ]
    },
    {
      "cell_type": "code",
      "source": [
        "import matplotlib.pyplot as plt\n",
        "import seaborn as sns\n",
        "\n",
        "sns.set(style=\"whitegrid\")\n",
        "plt.figure(figsize=(12, 8))\n",
        "\n",
        "grafik = sns.countplot(\n",
        "    y='Kategori_Bersih',\n",
        "    data=df_negatif,\n",
        "    order=df_negatif['Kategori_Bersih'].value_counts().index,\n",
        "    palette='viridis',\n",
        "    hue='Kategori_Bersih',\n",
        "    legend=False\n",
        ")\n",
        "\n",
        "grafik.set_title('Peringkat Keluhan Utama pada Mainan Anjing \"Tug-a-Jug\"', fontsize=16)\n",
        "grafik.set_xlabel('Jumlah Ulasan Negatif', fontsize=12)\n",
        "grafik.set_ylabel('Kategori Keluhan', fontsize=12)\n",
        "\n",
        "plt.show()"
      ],
      "metadata": {
        "colab": {
          "base_uri": "https://localhost:8080/",
          "height": 454
        },
        "id": "cWjP2ghiRLmr",
        "outputId": "fbe20441-f367-4dea-e6e7-885cf8128436"
      },
      "execution_count": 20,
      "outputs": [
        {
          "output_type": "display_data",
          "data": {
            "text/plain": [
              "<Figure size 1200x800 with 1 Axes>"
            ],
            "image/png": "[encoded data removed]"
          },
          "metadata": {}
        }
      ]
    }
  ]
}